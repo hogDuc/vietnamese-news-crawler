{
 "cells": [
  {
   "cell_type": "code",
   "execution_count": 2,
   "metadata": {},
   "outputs": [],
   "source": [
    "import pandas as pd\n",
    "from bs4 import BeautifulSoup\n",
    "import requests\n",
    "from datetime import datetime\n",
    "import re\n",
    "from tqdm import tqdm"
   ]
  },
  {
   "cell_type": "code",
   "execution_count": null,
   "metadata": {},
   "outputs": [],
   "source": [
    "categories = ['kinh-te', 'tai-chinh', 'thue-hai-quan', 'chung-khoan', \n",
    "              'ngan-hang', 'bao-hiem', 'kinh-doanh', 'bat-dong-san', \n",
    "              'phap-luat', 'gia-ca']\n",
    "pageIndex = []\n",
    "for i in range(0, 100, 15):\n",
    "    pageIndex.append(i)"
   ]
  },
  {
   "cell_type": "code",
   "execution_count": null,
   "metadata": {},
   "outputs": [],
   "source": [
    "all_urls = []\n",
    "for category in categories:\n",
    "    for index in pageIndex:\n",
    "        url = f'https://thoibaotaichinhvietnam.vn/{category}&s_cond=&BRSR={index}'\n",
    "        html = BeautifulSoup(\n",
    "            requests.get(url).content, 'html.parser'\n",
    "        )\n",
    "        for a in html.find_all('article', {'class':'article'}):\n",
    "            all_urls.append(a.find('a').get('href'))"
   ]
  },
  {
   "cell_type": "code",
   "execution_count": 17,
   "metadata": {},
   "outputs": [],
   "source": [
    "def get_article(url):\n",
    "    article = BeautifulSoup(requests.get(url).content, 'html.parser')\n",
    "    title = article.find('h1', {'class':'post-title'}).get_text().strip()\n",
    "    date = datetime.strptime(\n",
    "        article.find('span', {'class':'article-publish-time'}).get_text().strip(),\n",
    "        '%H:%M | %d/%m/%Y' \n",
    "    ).timestamp()\n",
    "    categ = article.find('a', {'class':'article-catname'}).get_text().strip()\n",
    "    desc = article.find('div', {'class':'post-desc'}).get_text().strip()\n",
    "    body = article.find('div', {'class':'post-content'}).get_text().strip()\n",
    "    return {\n",
    "        'date':date, 'title':title, 'desc':desc, 'categ':categ, 'body':body, 'source':'ThoiBaoTaiChinh'\n",
    "    }"
   ]
  },
  {
   "cell_type": "code",
   "execution_count": null,
   "metadata": {},
   "outputs": [],
   "source": [
    "dates = []\n",
    "sources = []\n",
    "urls = []\n",
    "titles = []\n",
    "descs = []\n",
    "categs = []\n",
    "bodies = []\n",
    "\n",
    "for link in tqdm(all_urls):\n",
    "    try:\n",
    "        data = get_article(link)\n",
    "        if data[\"date\"] < datetime.strptime('30/10/2024 00:00', '%d/%m/%Y %H:%M').timestamp():\n",
    "            next\n",
    "        dates.append(data[\"date\"])\n",
    "        sources.append(data[\"source\"])\n",
    "        urls.append(link)\n",
    "        titles.append(data[\"title\"])\n",
    "        descs.append(data[\"desc\"])\n",
    "        categs.append(data[\"desc\"])\n",
    "        bodies.append(data['body'])\n",
    "    except Exception as error:\n",
    "        print(f\"Error at:, {link} {error}\")\n",
    "\n",
    "tbtt_data = pd.DataFrame({\n",
    "        'date': dates,\n",
    "        'source' : sources,\n",
    "        'url' : urls,\n",
    "        'title' : titles,\n",
    "        'description' : descs,\n",
    "        'category' : categs,\n",
    "        'body' : bodies\n",
    "    })\n",
    "    "
   ]
  },
  {
   "cell_type": "code",
   "execution_count": null,
   "metadata": {},
   "outputs": [],
   "source": [
    "tbtt_data.to_csv(\"thoibaotaichinh_data.csv\")"
   ]
  }
 ],
 "metadata": {
  "kernelspec": {
   "display_name": "ds",
   "language": "python",
   "name": "python3"
  },
  "language_info": {
   "codemirror_mode": {
    "name": "ipython",
    "version": 3
   },
   "file_extension": ".py",
   "mimetype": "text/x-python",
   "name": "python",
   "nbconvert_exporter": "python",
   "pygments_lexer": "ipython3",
   "version": "3.9.18"
  }
 },
 "nbformat": 4,
 "nbformat_minor": 2
}
