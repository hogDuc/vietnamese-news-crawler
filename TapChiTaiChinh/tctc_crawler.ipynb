{
 "cells": [
  {
   "cell_type": "code",
   "execution_count": 3,
   "metadata": {},
   "outputs": [],
   "source": [
    "import pandas as pd\n",
    "from bs4 import BeautifulSoup\n",
    "import requests\n",
    "from datetime import datetime\n",
    "import re\n",
    "from tqdm import tqdm"
   ]
  },
  {
   "cell_type": "code",
   "execution_count": 50,
   "metadata": {},
   "outputs": [],
   "source": [
    "def get_article(url):\n",
    "    html = BeautifulSoup(\n",
    "        requests.get(url).content, 'html.parser'\n",
    "    )\n",
    "    title = html.find('h1', {'class':'detail__title'}).get_text().strip()\n",
    "    date = datetime.strptime(\n",
    "        html.find('div', {'class':'detail__time'}).find('time').get_text().strip(), \n",
    "        '%H:%M %d/%m/%Y'\n",
    "    ).timestamp()\n",
    "    desc = html.find('h2', {'class':'detail__summary'}).get_text().strip()\n",
    "    categ = html.find('li', {'class':'breadcrumb-item active'}).find('a').get_text().strip()\n",
    "    body = html.find('div',{'class':'detail__content'}).get_text().strip()\n",
    "    return {\n",
    "        'title':title, 'source':\"TapChiTaiChinh\", 'date':date, 'desc':desc, 'categ':categ, 'body':body\n",
    "    }\n"
   ]
  },
  {
   "cell_type": "code",
   "execution_count": 58,
   "metadata": {},
   "outputs": [],
   "source": [
    "headers = {\n",
    "    'accept': 'application/json, text/javascript, */*; q=0.01',\n",
    "    'accept-language': 'en-US,en;q=0.9,vi;q=0.8',\n",
    "    # 'cookie': '_ga=GA1.1.1318016657.1730997942; __zi=3000.SSZzejyD3DyxYU6gsmyDrIU1vg6T40sV9TNuxvC8JiCtt-VzqHfOrtI0eVZGKXVIV86azfHN5jiqYQN-c5yNr3On.1; imf.log.cname=52b76bc0-999f-444e-6a4f-91358ae01376; ul_19000=true; ul_1902178=true; _ga_NPYJXLCD14=GS1.1.1731032892.2.1.1731033110.0.0.0',\n",
    "    'priority': 'u=1, i',\n",
    "    'referer': 'https://tapchitaichinh.vn/Chuyen-dong-tai-chinh.html',\n",
    "    'sec-ch-ua': '\"Chromium\";v=\"130\", \"Microsoft Edge\";v=\"130\", \"Not?A_Brand\";v=\"99\"',\n",
    "    'sec-ch-ua-mobile': '?0',\n",
    "    'sec-ch-ua-platform': '\"Windows\"',\n",
    "    'sec-fetch-dest': 'empty',\n",
    "    'sec-fetch-mode': 'cors',\n",
    "    'sec-fetch-site': 'same-origin',\n",
    "    'user-agent': 'Mozilla/5.0 (Windows NT 10.0; Win64; x64) AppleWebKit/537.36 (KHTML, like Gecko) Chrome/130.0.0.0 Safari/537.36 Edg/130.0.0.0',\n",
    "    'x-requested-with': 'XMLHttpRequest',\n",
    "}\n",
    "\n",
    "catIds = [178, 76, 1107180129, 171, 65, 84, 1107182143, 87, 136, 90]\n",
    "maxPage = 5\n",
    "\n",
    "all_url = []\n",
    "for catId in catIds:\n",
    "    for page in range(1, maxPage + 1):\n",
    "        response = requests.get(f'https://tapchitaichinh.vn/api/category/{catId}/paging/{page}', headers=headers).json()\n",
    "        for link in response:\n",
    "            url = ('https://tapchitaichinh.vn/' + link[\"Url\"])\n",
    "            all_url.append(url)"
   ]
  },
  {
   "cell_type": "code",
   "execution_count": 62,
   "metadata": {},
   "outputs": [
    {
     "name": "stderr",
     "output_type": "stream",
     "text": [
      "  5%|▌         | 20/400 [00:01<00:36, 10.55it/s]"
     ]
    },
    {
     "name": "stdout",
     "output_type": "stream",
     "text": [
      "Error at:  https://tapchitaichinh.vn//du-toan-thu-chi-ngan-sach-nha-nuoc-nam-2025.html 'NoneType' object has no attribute 'find'\n"
     ]
    },
    {
     "name": "stderr",
     "output_type": "stream",
     "text": [
      " 19%|█▉        | 75/400 [00:07<00:31, 10.28it/s]"
     ]
    },
    {
     "name": "stdout",
     "output_type": "stream",
     "text": [
      "Error at:  https://tapchitaichinh.vn//sua-doi-bo-sung-luat-chung-khoan-vi-loi-ich-chung-va-su-phat-trien-lanh-manh-ben-vung-cua-thi-truong.html 'NoneType' object has no attribute 'get_text'\n"
     ]
    },
    {
     "name": "stderr",
     "output_type": "stream",
     "text": [
      " 54%|█████▎    | 214/400 [00:21<00:18, 10.27it/s]"
     ]
    },
    {
     "name": "stdout",
     "output_type": "stream",
     "text": [
      "Error at:  https://tapchitaichinh.vn//thuc-thi-esg-co-hoi-de-doanh-nghiep-viet-nam-phat-trien-ben-vung.html 'NoneType' object has no attribute 'find'\n"
     ]
    },
    {
     "name": "stderr",
     "output_type": "stream",
     "text": [
      " 82%|████████▏ | 328/400 [00:32<00:06, 10.70it/s]"
     ]
    },
    {
     "name": "stdout",
     "output_type": "stream",
     "text": [
      "Error at:  https://tapchitaichinh.vn//cach-khai-thac-su-dung-bo-phap-dien-viet-nam.html 'NoneType' object has no attribute 'find'\n"
     ]
    },
    {
     "name": "stderr",
     "output_type": "stream",
     "text": [
      " 84%|████████▍ | 338/400 [00:32<00:05, 10.79it/s]"
     ]
    },
    {
     "name": "stdout",
     "output_type": "stream",
     "text": [
      "Error at:  https://tapchitaichinh.vn//tu-1-11-2024-tang-muc-tro-cap-hang-thang-voi-quan-nhan-da-phuc-vien-xuat-ngu-thoi-viec.html 'NoneType' object has no attribute 'find'\n"
     ]
    },
    {
     "name": "stderr",
     "output_type": "stream",
     "text": [
      " 86%|████████▌ | 342/400 [00:33<00:05, 10.89it/s]"
     ]
    },
    {
     "name": "stdout",
     "output_type": "stream",
     "text": [
      "Error at:  https://tapchitaichinh.vn//quy-dinh-ve-thanh-toan-chi-phi-thuoc-thiet-bi-y-te-cho-nguoi-co-the-bao-hiem-y-te.html 'NoneType' object has no attribute 'find'\n"
     ]
    },
    {
     "name": "stderr",
     "output_type": "stream",
     "text": [
      " 90%|█████████ | 361/400 [00:35<00:03, 10.56it/s]"
     ]
    },
    {
     "name": "stdout",
     "output_type": "stream",
     "text": [
      "Error at:  https://tapchitaichinh.vn//chuyen-doi-giao-thong-xanh-khoi-tao-ky-nguyen-xanh.html 'NoneType' object has no attribute 'get_text'\n"
     ]
    },
    {
     "name": "stderr",
     "output_type": "stream",
     "text": [
      "100%|██████████| 400/400 [00:39<00:00, 10.22it/s]\n"
     ]
    }
   ],
   "source": [
    "dates = []\n",
    "sources = []\n",
    "urls = []\n",
    "titles = []\n",
    "descs = []\n",
    "categs = []\n",
    "bodies = []\n",
    "\n",
    "for link in tqdm(all_url):\n",
    "    try:\n",
    "        data = get_article(link)\n",
    "        if data[\"date\"] < datetime(2024, 10, 30).timestamp():\n",
    "            next\n",
    "        else:\n",
    "            dates.append(data[\"date\"])\n",
    "            sources.append(data[\"source\"])\n",
    "            urls.append(link)\n",
    "            titles.append(data['title'])\n",
    "            descs.append(data[\"desc\"])\n",
    "            categs.append(data[\"categ\"])\n",
    "            bodies.append(data['body'])\n",
    "    except Exception as error:\n",
    "        print(\"Error at: \", link, error)\n",
    "\n",
    "tctc_data = pd.DataFrame(\n",
    "    {\n",
    "        'date': dates,\n",
    "        'source' : sources,\n",
    "        'url' : urls,\n",
    "        'title' : titles,\n",
    "        'description' : descs,\n",
    "        'category' : categs,\n",
    "        'body' : bodies\n",
    "    }\n",
    ")"
   ]
  },
  {
   "cell_type": "code",
   "execution_count": 64,
   "metadata": {},
   "outputs": [],
   "source": [
    "tctc_data.to_csv(\"TapChiTaiChinh_data.csv\")"
   ]
  }
 ],
 "metadata": {
  "kernelspec": {
   "display_name": "ds",
   "language": "python",
   "name": "python3"
  },
  "language_info": {
   "codemirror_mode": {
    "name": "ipython",
    "version": 3
   },
   "file_extension": ".py",
   "mimetype": "text/x-python",
   "name": "python",
   "nbconvert_exporter": "python",
   "pygments_lexer": "ipython3",
   "version": "3.9.18"
  }
 },
 "nbformat": 4,
 "nbformat_minor": 2
}
