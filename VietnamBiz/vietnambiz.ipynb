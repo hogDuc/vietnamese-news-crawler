{
 "cells": [
  {
   "cell_type": "code",
   "execution_count": 1,
   "metadata": {},
   "outputs": [],
   "source": [
    "import pandas as pd\n",
    "from bs4 import BeautifulSoup\n",
    "import requests\n",
    "from datetime import datetime\n",
    "import re\n",
    "from tqdm import tqdm"
   ]
  },
  {
   "cell_type": "code",
   "execution_count": 2,
   "metadata": {},
   "outputs": [],
   "source": [
    "vnb = pd.DataFrame(\n",
    "    {\n",
    "        \"muc\": ['tai-chinh', 'nha-dat', 'chung-khoan', 'doanh-nghiep', 'kinh-doanh', 'quoc-te', 'hang-hoa', 'thoi-su', 'du-bao'],\n",
    "        'max_page': [4, 4, 4, 4, 4, 5, 5, 5, 5]\n",
    "    }\n",
    ")\n",
    "vnb = vnb.set_index(\"muc\")"
   ]
  },
  {
   "cell_type": "code",
   "execution_count": 3,
   "metadata": {},
   "outputs": [],
   "source": [
    "all_url = []\n",
    "for category in vnb.index:\n",
    "    url = f'https://vietnambiz.vn/{category}/trang-{vnb.loc[category, \"max_page\"]}.htm'\n",
    "    html = BeautifulSoup(requests.get(url).content, 'html.parser')\n",
    "    try:\n",
    "        pinned_news_1 = 'https://vietnambiz.vn' + html.find('div', {'class':'zone-pin-1'}).find('h2', {'class':'title'}).find('a').get('href')\n",
    "        pinned_news_2 = html.find('div', {'class':'flex flex-column'}).find_all('h3', {'class':'title'})\n",
    "        pinned_news_url = ['https://vietnambiz.vn' + url.find('a').get('href') for url in pinned_news_2]\n",
    "        pinned_news_url.append(pinned_news_1)\n",
    "        normal_news = html.find('div', {'class':'flex flex-column'}).find_all(\"h3\", {'class':'title'})\n",
    "        normal_urls = ['https://vietnambiz.vn/' + url.find('a').get('href') for url in normal_news]\n",
    "        all_url.extend([*pinned_news_url, *normal_urls])\n",
    "    except:\n",
    "        pinned_news_2 = html.find('div', {'class':'flex flex-column'}).find_all('h3', {'class':'title'})\n",
    "        pinned_news_url = ['https://vietnambiz.vn' + url.find('a').get('href') for url in pinned_news_2]\n",
    "        normal_news = html.find('div', {'class':'flex flex-column'}).find_all(\"h3\", {'class':'title'})\n",
    "        normal_urls = ['https://vietnambiz.vn/' + url.find('a').get('href') for url in normal_news]\n",
    "        all_url.extend([*pinned_news_url, *normal_urls])"
   ]
  },
  {
   "cell_type": "code",
   "execution_count": 4,
   "metadata": {},
   "outputs": [],
   "source": [
    "def get_article(url):\n",
    "    html = BeautifulSoup(\n",
    "        requests.get(url).content, 'html.parser'\n",
    "    )\n",
    "    title = html.find('h1', {'data-role':'title'}).get_text().strip()\n",
    "    desc = html.find('div', {'data-role':'sapo'}).get_text().strip()\n",
    "    date = datetime.strptime(\n",
    "        html.find('span', {'data-role':'publishdate'}).get_text().strip(),\n",
    "        '%H:%M | %d/%m/%Y'\n",
    "    )\n",
    "    categ = html.find('a', {'data-role':'cate-name'}).get_text().strip()\n",
    "    body = html.find('div', {'data-role':'content'}).get_text().strip().replace('\\n', \"\")\n",
    "    return {\n",
    "        'date': date, 'source': 'VietnamBiz', 'title': title, 'desc':desc, 'categ':categ, 'body':body\n",
    "    }"
   ]
  },
  {
   "cell_type": "code",
   "execution_count": 5,
   "metadata": {},
   "outputs": [
    {
     "name": "stderr",
     "output_type": "stream",
     "text": [
      "  6%|▌         | 22/360 [00:13<02:11,  2.57it/s]"
     ]
    },
    {
     "name": "stdout",
     "output_type": "stream",
     "text": [
      "Error at:  https://vietnambiz.vn//tin-dung-tang-truong-on-dinh-loi-nhuan-ba-quy-cua-vpbank-tang-67-so-voi-cung-ky-20241028203316960.htm 'NoneType' object has no attribute 'get_text'\n",
      "Error at:  https://vietnambiz.vn//thong-doc-nhnn-ly-giai-vi-sao-doanh-nghiep-bat-dong-san-kho-tiep-can-von-2024102816191548.htm 'NoneType' object has no attribute 'get_text'\n"
     ]
    },
    {
     "name": "stderr",
     "output_type": "stream",
     "text": [
      "  7%|▋         | 24/360 [00:13<01:25,  3.91it/s]"
     ]
    },
    {
     "name": "stdout",
     "output_type": "stream",
     "text": [
      "Error at:  https://vietnambiz.vn//ocb-lai-hon-2500-ty-dong-truoc-thue-trong-9-thang-dau-nam-20241028184021399.htm 'NoneType' object has no attribute 'get_text'\n",
      "Error at:  https://vietnambiz.vn//them-mot-cong-ty-bao-hiem-bao-lai-quy-iii-giam-hon-40-2024102815415570.htm 'NoneType' object has no attribute 'get_text'\n"
     ]
    },
    {
     "name": "stderr",
     "output_type": "stream",
     "text": [
      "  7%|▋         | 26/360 [00:14<01:02,  5.32it/s]"
     ]
    },
    {
     "name": "stdout",
     "output_type": "stream",
     "text": [
      "Error at:  https://vietnambiz.vn//chu-tich-agribank-de-xuat-co-che-chu-dong-tang-von-cho-big4-khong-can-trinh-len-quoc-hoi-2024102812055204.htm 'NoneType' object has no attribute 'get_text'\n",
      "Error at:  https://vietnambiz.vn//chung-khoan-vietcap-chi-ra-ba-nguyen-nhan-khien-ty-gia-tang-nong-20241028141325342.htm 'NoneType' object has no attribute 'get_text'\n"
     ]
    },
    {
     "name": "stderr",
     "output_type": "stream",
     "text": [
      "  8%|▊         | 28/360 [00:14<00:52,  6.38it/s]"
     ]
    },
    {
     "name": "stdout",
     "output_type": "stream",
     "text": [
      "Error at:  https://vietnambiz.vn//agribank-ha-gia-hon-50-cho-khoan-no-the-chap-bang-biet-thu-gan-900-m2-tai-thu-duc-20241028104758612.htm 'NoneType' object has no attribute 'get_text'\n",
      "Error at:  https://vietnambiz.vn//ty-gia-usd-hom-nay-2810-dxy-quay-dau-tang-2024102585553965.htm 'NoneType' object has no attribute 'get_text'\n"
     ]
    },
    {
     "name": "stderr",
     "output_type": "stream",
     "text": [
      "  8%|▊         | 30/360 [00:14<00:45,  7.23it/s]"
     ]
    },
    {
     "name": "stdout",
     "output_type": "stream",
     "text": [
      "Error at:  https://vietnambiz.vn//them-du-dia-noi-long-chinh-sach-tien-te-2025-20241022182526302.htm 'NoneType' object has no attribute 'get_text'\n",
      "Error at:  https://vietnambiz.vn//ba-truong-my-lan-trinh-bay-gi-khi-xin-giam-an-tu-hinh-20241027134736323.htm 'NoneType' object has no attribute 'get_text'\n"
     ]
    },
    {
     "name": "stderr",
     "output_type": "stream",
     "text": [
      "  9%|▉         | 32/360 [00:14<00:43,  7.57it/s]"
     ]
    },
    {
     "name": "stdout",
     "output_type": "stream",
     "text": [
      "Error at:  https://vietnambiz.vn//nhnn-co-the-phai-ban-bot-du-tru-ngoai-hoi-neu-ong-trump-thang-cu-202410279379142.htm 'NoneType' object has no attribute 'get_text'\n",
      "Error at:  https://vietnambiz.vn//giua-bao-tin-don-eximbank-bao-lai-truoc-thue-quy-iii-gap-3-lan-cung-ky-20241026183131946.htm 'NoneType' object has no attribute 'get_text'\n"
     ]
    },
    {
     "name": "stderr",
     "output_type": "stream",
     "text": [
      "  9%|▉         | 34/360 [00:15<00:41,  7.93it/s]"
     ]
    },
    {
     "name": "stdout",
     "output_type": "stream",
     "text": [
      "Error at:  https://vietnambiz.vn//dong-euro-se-van-con-suy-yeu-trong-thoi-gian-toi-202410261429224.htm 'NoneType' object has no attribute 'get_text'\n",
      "Error at:  https://vietnambiz.vn//kienlongbank-to-chuc-dhdcd-bat-thuong-2024-kien-toan-bo-may-nhan-su-20241026141710158.htm 'NoneType' object has no attribute 'get_text'\n"
     ]
    },
    {
     "name": "stderr",
     "output_type": "stream",
     "text": [
      " 10%|█         | 36/360 [00:15<00:39,  8.11it/s]"
     ]
    },
    {
     "name": "stdout",
     "output_type": "stream",
     "text": [
      "Error at:  https://vietnambiz.vn//mot-ngan-hang-thuc-hien-gan-91-ke-hoach-sau-9-thang-20241025165343596.htm 'NoneType' object has no attribute 'get_text'\n",
      "Error at:  https://vietnambiz.vn//ngan-hang-canh-bao-rui-ro-ve-noi-dung-ghi-chu-khi-chuyen-khoan-20241025145858254.htm 'NoneType' object has no attribute 'get_text'\n"
     ]
    },
    {
     "name": "stderr",
     "output_type": "stream",
     "text": [
      " 11%|█         | 38/360 [00:15<00:40,  7.98it/s]"
     ]
    },
    {
     "name": "stdout",
     "output_type": "stream",
     "text": [
      "Error at:  https://vietnambiz.vn//techcombank-chinh-thuc-ra-mat-cong-ty-bao-hiem-phi-nhan-tho-trong-he-sinh-thai-202410251541523.htm 'NoneType' object has no attribute 'get_text'\n",
      "Error at:  https://vietnambiz.vn//chong-ba-nguyen-thi-nga-thu-gan-800-ty-khi-ban-co-phieu-ssb-20241025152845312.htm 'NoneType' object has no attribute 'get_text'\n"
     ]
    },
    {
     "name": "stderr",
     "output_type": "stream",
     "text": [
      " 11%|█         | 40/360 [00:15<00:39,  8.03it/s]"
     ]
    },
    {
     "name": "stdout",
     "output_type": "stream",
     "text": [
      "Error at:  https://vietnambiz.vn//sacombank-tang-von-cho-cong-ty-con-20241025144250474.htm 'NoneType' object has no attribute 'get_text'\n",
      "Error at:  https://vietnambiz.vn//ty-gia-bien-dong-manh-va-dong-thai-mua-ban-ngoai-te-trai-chieu-cua-nhnn-va-kho-bac-20241025112438206.htm 'NoneType' object has no attribute 'get_text'\n"
     ]
    },
    {
     "name": "stderr",
     "output_type": "stream",
     "text": [
      " 17%|█▋        | 62/360 [00:27<01:31,  3.26it/s]"
     ]
    },
    {
     "name": "stdout",
     "output_type": "stream",
     "text": [
      "Error at:  https://vietnambiz.vn//thue-la-mot-giai-phap-binh-on-gia-nha-2024102314374086.htm 'NoneType' object has no attribute 'get_text'\n",
      "Error at:  https://vietnambiz.vn//bang-gia-moi-o-tp-hcm-se-lam-tang-gia-bat-dong-san-20241023142241273.htm 'NoneType' object has no attribute 'get_text'\n"
     ]
    },
    {
     "name": "stderr",
     "output_type": "stream",
     "text": [
      " 18%|█▊        | 64/360 [00:27<01:03,  4.67it/s]"
     ]
    },
    {
     "name": "stdout",
     "output_type": "stream",
     "text": [
      "Error at:  https://vietnambiz.vn//dat-xanh-uoc-lai-rong-31-ty-trong-quy-iii-du-kien-mo-ban-gem-riverside-vao-dau-nam-2025-20241023105640590.htm 'NoneType' object has no attribute 'get_text'\n",
      "Error at:  https://vietnambiz.vn//horea-ca-nhan-xin-cap-so-do-se-chiu-tac-dong-manh-tu-bang-gia-dat-moi-20241023758869.htm 'NoneType' object has no attribute 'get_text'\n"
     ]
    },
    {
     "name": "stderr",
     "output_type": "stream",
     "text": [
      " 18%|█▊        | 66/360 [00:27<00:49,  5.96it/s]"
     ]
    },
    {
     "name": "stdout",
     "output_type": "stream",
     "text": [
      "Error at:  https://vietnambiz.vn//suc-nong-canh-tranh-trong-bat-dong-san-cong-nghiep-20241021111529790.htm 'NoneType' object has no attribute 'get_text'\n",
      "Error at:  https://vietnambiz.vn//ha-noi-ra-soat-xay-dung-bang-gia-dat-theo-luat-dat-dai-2024-2024102221828955.htm 'NoneType' object has no attribute 'get_text'\n"
     ]
    },
    {
     "name": "stderr",
     "output_type": "stream",
     "text": [
      " 19%|█▉        | 68/360 [00:27<00:43,  6.76it/s]"
     ]
    },
    {
     "name": "stdout",
     "output_type": "stream",
     "text": [
      "Error at:  https://vietnambiz.vn//so-tnmt-tp-hcm-bang-gia-dat-moi-giup-xac-dinh-gia-dat-tai-dinh-cu-nhanh-hon-20241022164749763.htm 'NoneType' object has no attribute 'get_text'\n",
      "Error at:  https://vietnambiz.vn//yeu-to-giup-can-ho-pearl-residence-thu-hut-nha-dau-tu-tre-2024102216743449.htm 'NoneType' object has no attribute 'get_text'\n"
     ]
    },
    {
     "name": "stderr",
     "output_type": "stream",
     "text": [
      " 19%|█▉        | 70/360 [00:28<00:39,  7.33it/s]"
     ]
    },
    {
     "name": "stdout",
     "output_type": "stream",
     "text": [
      "Error at:  https://vietnambiz.vn//nhu-cau-dau-tu-chung-cu-du-bao-tiep-tuc-tang-202410812637861.htm 'NoneType' object has no attribute 'get_text'\n",
      "Error at:  https://vietnambiz.vn//tp-hcm-chot-bang-gia-dat-dieu-chinh-cao-nhat-687-trieu-dong-2024102210736160.htm 'NoneType' object has no attribute 'get_text'\n"
     ]
    },
    {
     "name": "stderr",
     "output_type": "stream",
     "text": [
      " 20%|██        | 72/360 [00:28<00:38,  7.53it/s]"
     ]
    },
    {
     "name": "stdout",
     "output_type": "stream",
     "text": [
      "Error at:  https://vietnambiz.vn//bat-dong-san-kho-giam-gia-vi-san-pham-van-duoc-hap-thu-202410228245692.htm 'NoneType' object has no attribute 'get_text'\n",
      "Error at:  https://vietnambiz.vn//dat-da-lat-trong-bang-gia-moi-cao-nhat-73-trieu-dong-mot-m2-2024102273328976.htm 'NoneType' object has no attribute 'get_text'\n"
     ]
    },
    {
     "name": "stderr",
     "output_type": "stream",
     "text": [
      " 21%|██        | 74/360 [00:28<00:37,  7.68it/s]"
     ]
    },
    {
     "name": "stdout",
     "output_type": "stream",
     "text": [
      "Error at:  https://vietnambiz.vn//idico-sap-lam-khu-cong-nghiep-5900-ty-gan-cao-toc-trung-luong-my-thuan-20241021205736121.htm 'NoneType' object has no attribute 'get_text'\n",
      "Error at:  https://vietnambiz.vn//hon-1000-can-ho-phuc-vu-tai-dinh-cu-bi-ban-ra-thi-truong-20241021205127618.htm 'NoneType' object has no attribute 'get_text'\n"
     ]
    },
    {
     "name": "stderr",
     "output_type": "stream",
     "text": [
      " 21%|██        | 76/360 [00:28<00:37,  7.53it/s]"
     ]
    },
    {
     "name": "stdout",
     "output_type": "stream",
     "text": [
      "Error at:  https://vietnambiz.vn//ha-noi-to-chuc-ca-nhan-khan-truong-gia-han-su-dung-dat-theo-luat-dat-dai-2024-2024102120368899.htm 'NoneType' object has no attribute 'get_text'\n",
      "Error at:  https://vietnambiz.vn//dong-anh-duoc-giao-hon-18832-m2-dat-xay-khu-dau-gia-qsdd-20241021201345429.htm 'NoneType' object has no attribute 'get_text'\n"
     ]
    },
    {
     "name": "stderr",
     "output_type": "stream",
     "text": [
      " 22%|██▏       | 78/360 [00:29<00:37,  7.56it/s]"
     ]
    },
    {
     "name": "stdout",
     "output_type": "stream",
     "text": [
      "Error at:  https://vietnambiz.vn//42-lo-dat-trung-dau-gia-tai-hoai-duc-chua-duoc-nop-tien-20241021193212110.htm 'NoneType' object has no attribute 'get_text'\n",
      "Error at:  https://vietnambiz.vn//nhieu-du-an-nha-o-tai-khoi-dong-20241021135821874.htm 'NoneType' object has no attribute 'get_text'\n"
     ]
    },
    {
     "name": "stderr",
     "output_type": "stream",
     "text": [
      " 22%|██▏       | 80/360 [00:29<00:35,  7.80it/s]"
     ]
    },
    {
     "name": "stdout",
     "output_type": "stream",
     "text": [
      "Error at:  https://vietnambiz.vn//photostory-hien-trang-khu-do-thi-tan-tao-330-ha-cua-khang-dien-20241021115442825.htm 'NoneType' object has no attribute 'get_text'\n",
      "Error at:  https://vietnambiz.vn//tp-hcm-du-kien-cam-phan-lo-ban-nen-tai-5-huyen-ngoai-thanh-20241021102535890.htm 'NoneType' object has no attribute 'get_text'\n"
     ]
    },
    {
     "name": "stderr",
     "output_type": "stream",
     "text": [
      " 28%|██▊       | 102/360 [00:42<01:49,  2.36it/s]"
     ]
    },
    {
     "name": "stdout",
     "output_type": "stream",
     "text": [
      "Error at:  https://vietnambiz.vn//uy-ban-chung-khoan-xu-phat-chung-khoan-kafi-lien-quan-hoat-dong-margin-20241025756180.htm 'NoneType' object has no attribute 'get_text'\n",
      "Error at:  https://vietnambiz.vn//con-gai-ty-phu-nguyen-dang-quang-muon-mua-10-trieu-co-phieu-msn-20241024183443504.htm 'NoneType' object has no attribute 'get_text'\n"
     ]
    },
    {
     "name": "stderr",
     "output_type": "stream",
     "text": [
      " 29%|██▉       | 104/360 [00:43<01:09,  3.68it/s]"
     ]
    },
    {
     "name": "stdout",
     "output_type": "stream",
     "text": [
      "Error at:  https://vietnambiz.vn//nhan-dinh-thi-truong-chung-khoan-2510-kiem-tra-lai-vung-ho-tro-1240-1250-diem-20241024191448605.htm 'NoneType' object has no attribute 'get_text'\n",
      "Error at:  https://vietnambiz.vn//khoi-ngoai-tro-lai-ban-rong-gan-260-ty-dong-phien-vn-index-mat-moc-1260-diem-20241024154222992.htm 'NoneType' object has no attribute 'get_text'\n"
     ]
    },
    {
     "name": "stderr",
     "output_type": "stream",
     "text": [
      " 29%|██▉       | 105/360 [00:43<00:58,  4.34it/s]"
     ]
    },
    {
     "name": "stdout",
     "output_type": "stream",
     "text": [
      "Error at:  https://vietnambiz.vn//co-phieu-vinhomes-dieu-chinh-sau-nhip-tang-he-lo-so-co-phieu-da-mua-duoc-20241024151911463.htm 'NoneType' object has no attribute 'get_text'\n"
     ]
    },
    {
     "name": "stderr",
     "output_type": "stream",
     "text": [
      " 30%|██▉       | 107/360 [00:43<00:51,  4.94it/s]"
     ]
    },
    {
     "name": "stdout",
     "output_type": "stream",
     "text": [
      "Error at:  https://vietnambiz.vn//chung-khoan-sai-gon-ha-noi-thoai-von-tai-safoco-saf-2024102475732914.htm 'NoneType' object has no attribute 'get_text'\n",
      "Error at:  https://vietnambiz.vn//pyn-elite-fund-chi-hon-200-ty-dong-mua-co-phieu-lideco-ntl-nang-so-huu-len-gan-8-20241024103455433.htm 'NoneType' object has no attribute 'get_text'\n"
     ]
    },
    {
     "name": "stderr",
     "output_type": "stream",
     "text": [
      " 30%|███       | 109/360 [00:43<00:42,  5.95it/s]"
     ]
    },
    {
     "name": "stdout",
     "output_type": "stream",
     "text": [
      "Error at:  https://vietnambiz.vn//chung-khoan-kb-viet-nam-tu-van-niem-yet-thanh-cong-co-phieu-cua-tap-doan-giao-duc-tri-viet-202410247574203.htm 'NoneType' object has no attribute 'get_text'\n",
      "Error at:  https://vietnambiz.vn//danh-muc-tu-doanh-gan-10-ty-usd-cua-cac-ctck-dang-phan-bo-vao-dau-20241023131335750.htm 'NoneType' object has no attribute 'get_text'\n"
     ]
    },
    {
     "name": "stderr",
     "output_type": "stream",
     "text": [
      " 31%|███       | 111/360 [00:44<00:36,  6.74it/s]"
     ]
    },
    {
     "name": "stdout",
     "output_type": "stream",
     "text": [
      "Error at:  https://vietnambiz.vn//chung-khoan-acb-chuan-bi-tang-von-len-10000-ty-dong-2024102315012110.htm 'NoneType' object has no attribute 'get_text'\n",
      "Error at:  https://vietnambiz.vn//nhan-dinh-thi-truong-chung-khoan-2410-tim-diem-can-bang-tai-nguong-ho-tro-1270-diem-20241023181911462.htm 'NoneType' object has no attribute 'get_text'\n"
     ]
    },
    {
     "name": "stderr",
     "output_type": "stream",
     "text": [
      " 31%|███▏      | 113/360 [00:44<00:33,  7.33it/s]"
     ]
    },
    {
     "name": "stdout",
     "output_type": "stream",
     "text": [
      "Error at:  https://vietnambiz.vn//khoi-ngoai-dao-chieu-mua-rong-nhe-tren-hose-sau-8-phien-ban-rong-lien-tuc-20241023155249282.htm 'NoneType' object has no attribute 'get_text'\n",
      "Error at:  https://vietnambiz.vn//cac-etf-tham-chieu-vndiamond-vn30-va-vnfin-lead-se-giao-dich-ra-sao-trong-ky-co-cau-thang-10-2024102375458797.htm 'NoneType' object has no attribute 'get_text'\n"
     ]
    },
    {
     "name": "stderr",
     "output_type": "stream",
     "text": [
      " 32%|███▏      | 115/360 [00:44<00:33,  7.35it/s]"
     ]
    },
    {
     "name": "stdout",
     "output_type": "stream",
     "text": [
      "Error at:  https://vietnambiz.vn//gan-16000-ty-dong-bi-rut-khoi-etf-noi-cach-nao-de-huy-dong-tro-lai-2024102385014163.htm 'NoneType' object has no attribute 'get_text'\n",
      "Error at:  https://vietnambiz.vn//uy-ban-chung-khoan-xu-phat-hai-cong-ty-vi-vi-pham-cong-bo-thong-tin-202410222012481.htm 'NoneType' object has no attribute 'get_text'\n"
     ]
    },
    {
     "name": "stderr",
     "output_type": "stream",
     "text": [
      " 32%|███▎      | 117/360 [00:44<00:31,  7.69it/s]"
     ]
    },
    {
     "name": "stdout",
     "output_type": "stream",
     "text": [
      "Error at:  https://vietnambiz.vn//cau-hoi-truoc-them-vif-2025-co-phieu-chung-khoan-con-trien-vong-dau-tu-khi-loi-nhuan-nganh-lao-xuong-muc-thap-nhat-ba-quy-20241022161929408.htm 'NoneType' object has no attribute 'get_text'\n",
      "Error at:  https://vietnambiz.vn//nhan-dinh-thi-truong-chung-khoan-2310-tiep-tuc-phan-hoa-20241022193252223.htm 'NoneType' object has no attribute 'get_text'\n"
     ]
    },
    {
     "name": "stderr",
     "output_type": "stream",
     "text": [
      " 33%|███▎      | 119/360 [00:45<00:30,  8.00it/s]"
     ]
    },
    {
     "name": "stdout",
     "output_type": "stream",
     "text": [
      "Error at:  https://vietnambiz.vn//khoi-ngoai-chua-ngung-ban-rong-2024102216744181.htm 'NoneType' object has no attribute 'get_text'\n",
      "Error at:  https://vietnambiz.vn//vinhomes-bat-dau-mua-lai-co-phieu-tu-2310-2024102214244941.htm 'NoneType' object has no attribute 'get_text'\n"
     ]
    },
    {
     "name": "stderr",
     "output_type": "stream",
     "text": [
      " 33%|███▎      | 120/360 [00:45<00:30,  7.89it/s]"
     ]
    },
    {
     "name": "stdout",
     "output_type": "stream",
     "text": [
      "Error at:  https://vietnambiz.vn//co-phieu-dau-tu-thuong-mai-smc-lien-tuc-tang-tran-sau-nhip-lao-doc-20241022103446578.htm 'NoneType' object has no attribute 'get_text'\n"
     ]
    },
    {
     "name": "stderr",
     "output_type": "stream",
     "text": [
      " 39%|███▉      | 142/360 [01:00<01:25,  2.54it/s]"
     ]
    },
    {
     "name": "stdout",
     "output_type": "stream",
     "text": [
      "Error at:  https://vietnambiz.vn//thu-truong-tai-chinh-se-khong-cam-nha-dau-tu-ca-nhan-mua-trai-phieu-rieng-le-20241028194244536.htm 'NoneType' object has no attribute 'get_text'\n",
      "Error at:  https://vietnambiz.vn//vi-sao-cang-hai-phong-lai-dot-bien-hon-300-ty-20241028183153267.htm 'NoneType' object has no attribute 'get_text'\n"
     ]
    },
    {
     "name": "stderr",
     "output_type": "stream",
     "text": [
      " 40%|████      | 144/360 [01:01<00:56,  3.84it/s]"
     ]
    },
    {
     "name": "stdout",
     "output_type": "stream",
     "text": [
      "Error at:  https://vietnambiz.vn//loi-nhuan-cong-ty-tinh-bot-san-lao-doc-co-phieu-apf-va-cap-rot-manh-2024102894112825.htm 'NoneType' object has no attribute 'get_text'\n",
      "Error at:  https://vietnambiz.vn//chu-tich-ttc-agris-cong-ty-se-chao-ban-cac-khoan-dau-tu-khong-thuoc-chuoi-gia-tri-nong-nghiep-2024102817348288.htm 'NoneType' object has no attribute 'get_text'\n"
     ]
    },
    {
     "name": "stderr",
     "output_type": "stream",
     "text": [
      " 41%|████      | 146/360 [01:01<00:40,  5.23it/s]"
     ]
    },
    {
     "name": "stdout",
     "output_type": "stream",
     "text": [
      "Error at:  https://vietnambiz.vn//doanh-nghiep-tom-va-ca-tra-boi-thu-trong-quy-iii-2024102815339549.htm 'NoneType' object has no attribute 'get_text'\n",
      "Error at:  https://vietnambiz.vn//gelex-lai-truoc-thue-2270-ty-dong-sau-9-thang-20241028152132423.htm 'NoneType' object has no attribute 'get_text'\n"
     ]
    },
    {
     "name": "stderr",
     "output_type": "stream",
     "text": [
      " 41%|████      | 148/360 [01:01<00:33,  6.33it/s]"
     ]
    },
    {
     "name": "stdout",
     "output_type": "stream",
     "text": [
      "Error at:  https://vietnambiz.vn//dam-ca-mau-vuot-33-ke-hoach-loi-nhuan-nam-202410288033313.htm 'NoneType' object has no attribute 'get_text'\n",
      "Error at:  https://vietnambiz.vn//cong-ty-ban-banh-phong-tom-lai-tang-gan-2-lan-20241027202648104.htm 'NoneType' object has no attribute 'get_text'\n"
     ]
    },
    {
     "name": "stderr",
     "output_type": "stream",
     "text": [
      " 42%|████▏     | 150/360 [01:01<00:29,  7.03it/s]"
     ]
    },
    {
     "name": "stdout",
     "output_type": "stream",
     "text": [
      "Error at:  https://vietnambiz.vn//di-nguoc-duc-giang-hai-cong-ty-hoa-chat-thuoc-vinachem-lai-dot-bien-2024102714486971.htm 'NoneType' object has no attribute 'get_text'\n",
      "Error at:  https://vietnambiz.vn//de-an-co-cau-lai-evn-giai-doan-den-het-nam-2025-2024102784157814.htm 'NoneType' object has no attribute 'get_text'\n"
     ]
    },
    {
     "name": "stderr",
     "output_type": "stream",
     "text": [
      " 42%|████▏     | 152/360 [01:02<00:27,  7.55it/s]"
     ]
    },
    {
     "name": "stdout",
     "output_type": "stream",
     "text": [
      "Error at:  https://vietnambiz.vn//tnh-ban-het-15-trieu-co-phan-moi-khoi-ngoai-nam-gan-50-von-20241026162633188.htm 'NoneType' object has no attribute 'get_text'\n",
      "Error at:  https://vietnambiz.vn//show-anh-trai-vuot-ngan-chong-gai-giup-yeah1-lai-dam-20241026144138262.htm 'NoneType' object has no attribute 'get_text'\n"
     ]
    },
    {
     "name": "stderr",
     "output_type": "stream",
     "text": [
      " 43%|████▎     | 154/360 [01:02<00:26,  7.64it/s]"
     ]
    },
    {
     "name": "stdout",
     "output_type": "stream",
     "text": [
      "Error at:  https://vietnambiz.vn//tap-doan-cao-su-sap-chi-1200-ty-dong-tra-co-tuc-20241026153533703.htm 'NoneType' object has no attribute 'get_text'\n",
      "Error at:  https://vietnambiz.vn//9-doanh-nghiep-chot-quyen-tra-co-tuc-tien-mat-tuan-toi-cao-nhat-20-2024102515934314.htm 'NoneType' object has no attribute 'get_text'\n"
     ]
    },
    {
     "name": "stderr",
     "output_type": "stream",
     "text": [
      " 43%|████▎     | 156/360 [01:02<00:26,  7.66it/s]"
     ]
    },
    {
     "name": "stdout",
     "output_type": "stream",
     "text": [
      "Error at:  https://vietnambiz.vn//bai-toan-chat-luong-hang-hoa-truoc-them-nang-hang-thi-truong-chung-khoan-2024102414182044.htm 'NoneType' object has no attribute 'get_text'\n",
      "Error at:  https://vietnambiz.vn//bao-yagi-cuon-bay-loi-nhuan-cac-cong-ty-than-niem-yet-2024102510445436.htm 'NoneType' object has no attribute 'get_text'\n"
     ]
    },
    {
     "name": "stderr",
     "output_type": "stream",
     "text": [
      " 44%|████▍     | 158/360 [01:02<00:25,  7.86it/s]"
     ]
    },
    {
     "name": "stdout",
     "output_type": "stream",
     "text": [
      "Error at:  https://vietnambiz.vn//gelex-duoc-xep-hang-a-ve-do-tin-nhiem-20241025112439478.htm 'NoneType' object has no attribute 'get_text'\n",
      "Error at:  https://vietnambiz.vn//chu-thuong-hieu-sua-dau-nanh-fami-lai-gan-1800-ty-dong-trong-9-thang-2024102582229889.htm 'NoneType' object has no attribute 'get_text'\n"
     ]
    },
    {
     "name": "stderr",
     "output_type": "stream",
     "text": [
      " 44%|████▍     | 160/360 [01:03<00:24,  8.06it/s]"
     ]
    },
    {
     "name": "stdout",
     "output_type": "stream",
     "text": [
      "Error at:  https://vietnambiz.vn//vinh-hoan-bao-lai-rong-tang-68-so-voi-cung-ky-20241024203943423.htm 'NoneType' object has no attribute 'get_text'\n",
      "Error at:  https://vietnambiz.vn//tkv-co-tong-giam-doc-moi-202410241665830.htm 'NoneType' object has no attribute 'get_text'\n"
     ]
    },
    {
     "name": "stderr",
     "output_type": "stream",
     "text": [
      " 51%|█████     | 182/360 [01:16<01:15,  2.34it/s]"
     ]
    },
    {
     "name": "stdout",
     "output_type": "stream",
     "text": [
      "Error at:  https://vietnambiz.vn//than-trong-khi-mua-sam-tren-cac-nen-tang-temu-shein-1688-2024102714401438.htm 'NoneType' object has no attribute 'get_text'\n",
      "Error at:  https://vietnambiz.vn//cong-nghe-giup-nhap-canh-san-bay-singapore-trong-10-giay-20241027143129402.htm 'NoneType' object has no attribute 'get_text'\n"
     ]
    },
    {
     "name": "stderr",
     "output_type": "stream",
     "text": [
      " 51%|█████     | 184/360 [01:17<00:47,  3.67it/s]"
     ]
    },
    {
     "name": "stdout",
     "output_type": "stream",
     "text": [
      "Error at:  https://vietnambiz.vn//niem-vui-mua-sam-co-bi-thuong-mai-dien-tu-tuoc-doat-2024102781131991.htm 'NoneType' object has no attribute 'get_text'\n",
      "Error at:  https://vietnambiz.vn//honda-civic-hybrid-sedan-co-c-cham-nguong-1-ty-dong-20241027970665.htm 'NoneType' object has no attribute 'get_text'\n"
     ]
    },
    {
     "name": "stderr",
     "output_type": "stream",
     "text": [
      " 52%|█████▏    | 186/360 [01:17<00:34,  5.10it/s]"
     ]
    },
    {
     "name": "stdout",
     "output_type": "stream",
     "text": [
      "Error at:  https://vietnambiz.vn//cuu-ceo-intel-tung-muon-mua-nvidia-voi-gia-20-ty-usd-202410278596373.htm 'NoneType' object has no attribute 'get_text'\n",
      "Error at:  https://vietnambiz.vn//chua-chac-temu-da-lam-nen-chuyen-tai-dong-nam-a-20241025151152389.htm 'NoneType' object has no attribute 'get_text'\n"
     ]
    },
    {
     "name": "stderr",
     "output_type": "stream",
     "text": [
      " 52%|█████▏    | 188/360 [01:17<00:27,  6.24it/s]"
     ]
    },
    {
     "name": "stdout",
     "output_type": "stream",
     "text": [
      "Error at:  https://vietnambiz.vn//mat-viec-vi-ai-202410277414845.htm 'NoneType' object has no attribute 'get_text'\n",
      "Error at:  https://vietnambiz.vn//dai-bieu-quoc-hoi-lo-con-loc-temu-triet-tieu-hang-noi-20241026141634836.htm 'NoneType' object has no attribute 'get_text'\n"
     ]
    },
    {
     "name": "stderr",
     "output_type": "stream",
     "text": [
      " 53%|█████▎    | 190/360 [01:17<00:23,  7.15it/s]"
     ]
    },
    {
     "name": "stdout",
     "output_type": "stream",
     "text": [
      "Error at:  https://vietnambiz.vn//nguoi-viet-that-vong-vi-hang-tren-temu-giao-cham-va-khong-re-202410267446182.htm 'NoneType' object has no attribute 'get_text'\n",
      "Error at:  https://vietnambiz.vn//cuoc-dua-khoc-liet-tren-thi-truong-smartphone-trung-quoc-20241025193717937.htm 'NoneType' object has no attribute 'get_text'\n"
     ]
    },
    {
     "name": "stderr",
     "output_type": "stream",
     "text": [
      " 53%|█████▎    | 192/360 [01:18<00:21,  7.71it/s]"
     ]
    },
    {
     "name": "stdout",
     "output_type": "stream",
     "text": [
      "Error at:  https://vietnambiz.vn//hang-nghin-ten-mien-vn-bi-dung-de-lua-dao-202410259844867.htm 'NoneType' object has no attribute 'get_text'\n",
      "Error at:  https://vietnambiz.vn//cua-sang-cho-wincommerce-2024102584351295.htm 'NoneType' object has no attribute 'get_text'\n"
     ]
    },
    {
     "name": "stderr",
     "output_type": "stream",
     "text": [
      " 54%|█████▍    | 194/360 [01:18<00:22,  7.54it/s]"
     ]
    },
    {
     "name": "stdout",
     "output_type": "stream",
     "text": [
      "Error at:  https://vietnambiz.vn//cuoc-dua-giua-hai-nguoi-dan-ong-giau-co-nhat-the-gioi-2024102317529103.htm 'NoneType' object has no attribute 'get_text'\n",
      "Error at:  https://vietnambiz.vn//hang-tram-nghin-smartphone-xach-tay-khong-dung-duoc-5g-o-viet-nam-202410256501517.htm 'NoneType' object has no attribute 'get_text'\n"
     ]
    },
    {
     "name": "stderr",
     "output_type": "stream",
     "text": [
      " 54%|█████▍    | 196/360 [01:18<00:22,  7.40it/s]"
     ]
    },
    {
     "name": "stdout",
     "output_type": "stream",
     "text": [
      "Error at:  https://vietnambiz.vn//temu-dang-lam-thu-tuc-dang-ky-hoat-dong-tai-viet-nam-20241024194234838.htm 'NoneType' object has no attribute 'get_text'\n",
      "Error at:  https://vietnambiz.vn//thay-doi-nho-tren-vo-ly-giup-highlands-coffee-tiet-kiem-16-ty-dongnam-20241024173750110.htm 'NoneType' object has no attribute 'get_text'\n"
     ]
    },
    {
     "name": "stderr",
     "output_type": "stream",
     "text": [
      " 55%|█████▌    | 198/360 [01:18<00:20,  7.86it/s]"
     ]
    },
    {
     "name": "stdout",
     "output_type": "stream",
     "text": [
      "Error at:  https://vietnambiz.vn//zus-coffee-ga-khong-lo-dong-nam-a-khien-doi-thu-phai-de-chung-2024102265653447.htm 'NoneType' object has no attribute 'get_text'\n",
      "Error at:  https://vietnambiz.vn//ong-pham-nhat-vuong-lap-doanh-nghiep-day-lai-xe-dien-20241024121412533.htm 'NoneType' object has no attribute 'get_text'\n"
     ]
    },
    {
     "name": "stderr",
     "output_type": "stream",
     "text": [
      " 56%|█████▌    | 200/360 [01:19<00:20,  7.83it/s]"
     ]
    },
    {
     "name": "stdout",
     "output_type": "stream",
     "text": [
      "Error at:  https://vietnambiz.vn//bat-ngo-chinh-sach-hoan-tien-khong-can-hoan-hang-trong-90-ngay-cua-temu-2024102410373306.htm 'NoneType' object has no attribute 'get_text'\n",
      "Error at:  https://vietnambiz.vn//tu-toyota-toi-mg-cac-hang-ngan-ngai-gi-khi-chua-nhap-cuoc-xe-dien-tai-viet-nam-20241024103345669.htm 'NoneType' object has no attribute 'get_text'\n"
     ]
    },
    {
     "name": "stderr",
     "output_type": "stream",
     "text": [
      " 62%|██████▏   | 222/360 [01:31<00:51,  2.70it/s]"
     ]
    },
    {
     "name": "stdout",
     "output_type": "stream",
     "text": [
      "Error at:  https://vietnambiz.vn//noi-lo-bi-ha-bac-tin-nhiem-cua-phap-202410296585554.htm 'NoneType' object has no attribute 'get_text'\n",
      "Error at:  https://vietnambiz.vn//dow-jones-vot-tang-hon-270-diem-khi-gia-dau-ha-nhiet-202410296628944.htm 'NoneType' object has no attribute 'get_text'\n"
     ]
    },
    {
     "name": "stderr",
     "output_type": "stream",
     "text": [
      " 62%|██████▏   | 224/360 [01:31<00:33,  4.10it/s]"
     ]
    },
    {
     "name": "stdout",
     "output_type": "stream",
     "text": [
      "Error at:  https://vietnambiz.vn//mot-hang-duoc-an-do-am-tham-giup-nga-qua-mat-my-de-mua-chip-ai-cua-nvidia-20241028141150250.htm 'NoneType' object has no attribute 'get_text'\n",
      "Error at:  https://vietnambiz.vn//thach-thuc-thue-quan-phu-bong-len-trien-vong-xuat-khau-thep-cua-trung-quoc-20241028104740183.htm 'NoneType' object has no attribute 'get_text'\n"
     ]
    },
    {
     "name": "stderr",
     "output_type": "stream",
     "text": [
      " 63%|██████▎   | 226/360 [01:31<00:24,  5.41it/s]"
     ]
    },
    {
     "name": "stdout",
     "output_type": "stream",
     "text": [
      "Error at:  https://vietnambiz.vn//trien-vong-lai-suat-nam-2025-it-nhat-hai-yeu-to-co-the-buoc-fed-phai-quay-xe-20241023232437639.htm 'NoneType' object has no attribute 'get_text'\n",
      "Error at:  https://vietnambiz.vn//gioi-chuyen-gia-canh-bao-dong-yen-co-the-truot-gia-xuong-moc-160-2024102875018471.htm 'NoneType' object has no attribute 'get_text'\n"
     ]
    },
    {
     "name": "stderr",
     "output_type": "stream",
     "text": [
      " 63%|██████▎   | 228/360 [01:32<00:20,  6.46it/s]"
     ]
    },
    {
     "name": "stdout",
     "output_type": "stream",
     "text": [
      "Error at:  https://vietnambiz.vn//chinh-truong-nhat-ban-bien-dong-lon-lien-minh-cam-quyen-mat-the-da-so-tai-quoc-hoi-2024102871841614.htm 'NoneType' object has no attribute 'get_text'\n",
      "Error at:  https://vietnambiz.vn//tong-thong-iran-canh-bao-se-co-phan-ung-doi-voi-israel-2024102871323767.htm 'NoneType' object has no attribute 'get_text'\n"
     ]
    },
    {
     "name": "stderr",
     "output_type": "stream",
     "text": [
      " 64%|██████▍   | 230/360 [01:32<00:17,  7.22it/s]"
     ]
    },
    {
     "name": "stdout",
     "output_type": "stream",
     "text": [
      "Error at:  https://vietnambiz.vn//bac-thay-dau-tu-that-bai-hang-tram-lan-masayoshi-son-van-giau-su-nho-dau-20241017155210929.htm 'NoneType' object has no attribute 'get_text'\n",
      "Error at:  https://vietnambiz.vn//imf-dong-yen-yeu-co-loi-cho-nen-kinh-te-nhat-ban-2024102781244474.htm 'NoneType' object has no attribute 'get_text'\n"
     ]
    },
    {
     "name": "stderr",
     "output_type": "stream",
     "text": [
      " 64%|██████▍   | 232/360 [01:32<00:16,  7.54it/s]"
     ]
    },
    {
     "name": "stdout",
     "output_type": "stream",
     "text": [
      "Error at:  https://vietnambiz.vn//nhieu-nhan-dinh-ve-dot-cat-giam-lai-suat-tiep-theo-cua-pboc-20241026195813810.htm 'NoneType' object has no attribute 'get_text'\n",
      "Error at:  https://vietnambiz.vn//thu-truong-trung-quoc-vua-phat-di-mot-thong-diep-ma-thi-truong-co-the-rat-muon-nghe-20241026205926632.htm 'NoneType' object has no attribute 'get_text'\n"
     ]
    },
    {
     "name": "stderr",
     "output_type": "stream",
     "text": [
      " 65%|██████▌   | 234/360 [01:32<00:15,  7.91it/s]"
     ]
    },
    {
     "name": "stdout",
     "output_type": "stream",
     "text": [
      "Error at:  https://vietnambiz.vn//my-anh-keu-goi-iran-khong-tra-dua-israel-de-pha-vo-vong-xoay-bao-luc-20241026195311426.htm 'NoneType' object has no attribute 'get_text'\n",
      "Error at:  https://vietnambiz.vn//dong-euro-se-van-con-suy-yeu-trong-thoi-gian-toi-202410261429224.htm 'NoneType' object has no attribute 'get_text'\n"
     ]
    },
    {
     "name": "stderr",
     "output_type": "stream",
     "text": [
      " 66%|██████▌   | 236/360 [01:33<00:15,  7.79it/s]"
     ]
    },
    {
     "name": "stdout",
     "output_type": "stream",
     "text": [
      "Error at:  https://vietnambiz.vn//nvidia-lan-thu-hai-trong-nam-vuot-apple-ve-gia-tri-thi-truong-20241026143225361.htm 'NoneType' object has no attribute 'get_text'\n",
      "Error at:  https://vietnambiz.vn//cuoc-canh-tranh-tien-te-giua-hai-sieu-cuong-bai-cuoi-gio-se-doi-chieu-2024102685931568.htm 'NoneType' object has no attribute 'get_text'\n"
     ]
    },
    {
     "name": "stderr",
     "output_type": "stream",
     "text": [
      " 66%|██████▌   | 238/360 [01:33<00:15,  7.95it/s]"
     ]
    },
    {
     "name": "stdout",
     "output_type": "stream",
     "text": [
      "Error at:  https://vietnambiz.vn//cuoc-canh-tranh-tien-te-giua-hai-sieu-cuong-bai-1-suc-anh-huong-suy-giam-2024102685555855.htm 'NoneType' object has no attribute 'get_text'\n",
      "Error at:  https://vietnambiz.vn//ngan-hang-trung-uong-nga-tang-lai-suat-len-muc-cao-ky-luc-21-2024102684218399.htm 'NoneType' object has no attribute 'get_text'\n"
     ]
    },
    {
     "name": "stderr",
     "output_type": "stream",
     "text": [
      " 67%|██████▋   | 240/360 [01:33<00:14,  8.14it/s]"
     ]
    },
    {
     "name": "stdout",
     "output_type": "stream",
     "text": [
      "Error at:  https://vietnambiz.vn//israel-tan-cong-tra-dua-iran-2024102675239858.htm 'NoneType' object has no attribute 'get_text'\n",
      "Error at:  https://vietnambiz.vn//nasdaq-composite-lap-ky-luc-moi-du-thi-truong-suy-yeu-vi-loi-suat-cao-202410266377812.htm 'NoneType' object has no attribute 'get_text'\n"
     ]
    },
    {
     "name": "stderr",
     "output_type": "stream",
     "text": [
      " 73%|███████▎  | 262/360 [01:50<00:40,  2.40it/s]"
     ]
    },
    {
     "name": "stdout",
     "output_type": "stream",
     "text": [
      "Error at:  https://vietnambiz.vn//gia-sau-rieng-hom-nay-3110-co-loai-len-toi-165000-dongkg-20241031173834933.htm 'NoneType' object has no attribute 'get_text'\n",
      "Error at:  https://vietnambiz.vn//du-bao-gia-heo-hoi-ngay-111-co-the-tiep-tuc-lang-song-tai-mot-so-tinh-thanh-pho-20241031171728297.htm 'NoneType' object has no attribute 'get_text'\n"
     ]
    },
    {
     "name": "stderr",
     "output_type": "stream",
     "text": [
      " 73%|███████▎  | 264/360 [01:50<00:25,  3.71it/s]"
     ]
    },
    {
     "name": "stdout",
     "output_type": "stream",
     "text": [
      "Error at:  https://vietnambiz.vn//cao-su-viet-nam-mat-dan-thi-phan-vao-tay-bo-bien-nga-2024103116283813.htm 'NoneType' object has no attribute 'get_text'\n",
      "Error at:  https://vietnambiz.vn//gia-cao-su-hom-nay-3110-keo-dai-chuoi-ngay-giam-gia-20241031161227350.htm 'NoneType' object has no attribute 'get_text'\n"
     ]
    },
    {
     "name": "stderr",
     "output_type": "stream",
     "text": [
      " 74%|███████▍  | 266/360 [01:50<00:18,  5.09it/s]"
     ]
    },
    {
     "name": "stdout",
     "output_type": "stream",
     "text": [
      "Error at:  https://vietnambiz.vn//gia-xang-tiep-da-giam-gan-400-donglit-trong-chieu-ngay-3110-2024103114560522.htm 'NoneType' object has no attribute 'get_text'\n",
      "Error at:  https://vietnambiz.vn//lieu-chau-au-co-doi-mat-voi-khung-hoang-khi-dot-20241031145549111.htm 'NoneType' object has no attribute 'get_text'\n"
     ]
    },
    {
     "name": "stderr",
     "output_type": "stream",
     "text": [
      " 74%|███████▍  | 268/360 [01:50<00:15,  6.12it/s]"
     ]
    },
    {
     "name": "stdout",
     "output_type": "stream",
     "text": [
      "Error at:  https://vietnambiz.vn//opec-co-the-hoan-ke-hoach-tang-san-luong-20241031103756553.htm 'NoneType' object has no attribute 'get_text'\n",
      "Error at:  https://vietnambiz.vn//gia-thit-heo-hom-nay-3110-nac-dam-duy-tri-muc-149520-dongkg-202410318626840.htm 'NoneType' object has no attribute 'get_text'\n"
     ]
    },
    {
     "name": "stderr",
     "output_type": "stream",
     "text": [
      " 75%|███████▌  | 270/360 [01:51<00:12,  6.95it/s]"
     ]
    },
    {
     "name": "stdout",
     "output_type": "stream",
     "text": [
      "Error at:  https://vietnambiz.vn//gia-xang-dau-hom-nay-3110-phuc-hoi-hon-2-nho-ton-kho-dau-tho-my-giam-2024103165215686.htm 'NoneType' object has no attribute 'get_text'\n",
      "Error at:  https://vietnambiz.vn//gia-ca-phe-hom-nay-3110-lien-tuc-dao-chieu-ca-phe-trong-nuoc-bat-tang-600-dongkg-202410317015641.htm 'NoneType' object has no attribute 'get_text'\n"
     ]
    },
    {
     "name": "stderr",
     "output_type": "stream",
     "text": [
      " 76%|███████▌  | 272/360 [01:51<00:11,  7.41it/s]"
     ]
    },
    {
     "name": "stdout",
     "output_type": "stream",
     "text": [
      "Error at:  https://vietnambiz.vn//dau-tu-vang-trong-nam-2025-dung-de-tien-roi-2024103017483416.htm 'NoneType' object has no attribute 'get_text'\n",
      "Error at:  https://vietnambiz.vn//wgc-lan-dau-tien-muc-tieu-thu-vang-vuot-moc-100-ty-usd-2024103164754142.htm 'NoneType' object has no attribute 'get_text'\n"
     ]
    },
    {
     "name": "stderr",
     "output_type": "stream",
     "text": [
      " 76%|███████▌  | 274/360 [01:51<00:11,  7.73it/s]"
     ]
    },
    {
     "name": "stdout",
     "output_type": "stream",
     "text": [
      "Error at:  https://vietnambiz.vn//gia-vang-hom-nay-3110-lien-tiep-lap-ky-luc-moi-2024103163851530.htm 'NoneType' object has no attribute 'get_text'\n",
      "Error at:  https://vietnambiz.vn//gia-tieu-hom-nay-3110-thi-truong-lang-song-trung-quoc-chuyen-sang-mua-tieu-indonesia-2024103163620672.htm 'NoneType' object has no attribute 'get_text'\n"
     ]
    },
    {
     "name": "stderr",
     "output_type": "stream",
     "text": [
      " 77%|███████▋  | 276/360 [01:51<00:10,  7.97it/s]"
     ]
    },
    {
     "name": "stdout",
     "output_type": "stream",
     "text": [
      "Error at:  https://vietnambiz.vn//gia-heo-hoi-hom-nay-3110-toan-quoc-khong-ghi-nhan-dieu-chinh-moi-2024103018162848.htm 'NoneType' object has no attribute 'get_text'\n",
      "Error at:  https://vietnambiz.vn//nghich-ly-khan-hiem-da-xay-dung-o-noi-mo-mat-thay-da-20241030205256834.htm 'NoneType' object has no attribute 'get_text'\n"
     ]
    },
    {
     "name": "stderr",
     "output_type": "stream",
     "text": [
      " 77%|███████▋  | 278/360 [01:52<00:10,  8.20it/s]"
     ]
    },
    {
     "name": "stdout",
     "output_type": "stream",
     "text": [
      "Error at:  https://vietnambiz.vn//du-khach-giau-362-vien-kim-cuong-trong-hop-keo-khi-nhap-canh-20241030194651462.htm 'NoneType' object has no attribute 'get_text'\n",
      "Error at:  https://vietnambiz.vn//du-bao-gia-heo-hoi-ngay-3110-nhieu-dia-phuong-se-giu-gia-di-ngang-20241030171948482.htm 'NoneType' object has no attribute 'get_text'\n"
     ]
    },
    {
     "name": "stderr",
     "output_type": "stream",
     "text": [
      " 78%|███████▊  | 280/360 [01:52<00:10,  7.97it/s]"
     ]
    },
    {
     "name": "stdout",
     "output_type": "stream",
     "text": [
      "Error at:  https://vietnambiz.vn//gia-lua-gao-hom-nay-3010-tang-nhe-50-150-dongkg-doi-voi-gao-ir-504-va-cam-2024103016557652.htm 'NoneType' object has no attribute 'get_text'\n",
      "Error at:  https://vietnambiz.vn//vietcap-nhieu-mat-hang-duoc-ky-vong-se-huong-loi-tu-cam-ket-xoa-bo-99-thue-quan-cua-uae-2024103016220734.htm 'NoneType' object has no attribute 'get_text'\n"
     ]
    },
    {
     "name": "stderr",
     "output_type": "stream",
     "text": [
      " 84%|████████▍ | 302/360 [02:07<00:29,  1.98it/s]"
     ]
    },
    {
     "name": "stdout",
     "output_type": "stream",
     "text": [
      "Error at:  https://vietnambiz.vn//thu-tuong-de-nghi-uae-tao-dieu-kien-nhap-khau-nong-thuy-san-rau-qua-tuoi-cua-viet-nam-20241028145913351.htm 'NoneType' object has no attribute 'get_text'\n",
      "Error at:  https://vietnambiz.vn//phan-cong-pho-bi-thu-thuong-truc-dieu-hanh-tinh-uy-nghe-an-20241028115013660.htm 'NoneType' object has no attribute 'get_text'\n"
     ]
    },
    {
     "name": "stderr",
     "output_type": "stream",
     "text": [
      " 84%|████████▍ | 304/360 [02:07<00:17,  3.19it/s]"
     ]
    },
    {
     "name": "stdout",
     "output_type": "stream",
     "text": [
      "Error at:  https://vietnambiz.vn//vi-sao-duong-sat-toc-do-cao-khong-keo-dai-tu-lang-son-den-ca-mau-202410286438934.htm 'NoneType' object has no attribute 'get_text'\n",
      "Error at:  https://vietnambiz.vn//bao-cao-nhanh-ve-thiet-hai-do-bao-so-6-o-thanh-pho-da-nang-2024102722116697.htm 'NoneType' object has no attribute 'get_text'\n"
     ]
    },
    {
     "name": "stderr",
     "output_type": "stream",
     "text": [
      " 85%|████████▌ | 306/360 [02:07<00:11,  4.56it/s]"
     ]
    },
    {
     "name": "stdout",
     "output_type": "stream",
     "text": [
      "Error at:  https://vietnambiz.vn//thu-tuong-hoan-nghenh-cac-tap-doan-uae-hop-tac-dau-tu-tai-viet-nam-2024102722837508.htm 'NoneType' object has no attribute 'get_text'\n",
      "Error at:  https://vietnambiz.vn//niem-tin-cua-doanh-nghiep-ve-trien-vong-kinh-te-12-thang-toi-20241027195031314.htm 'NoneType' object has no attribute 'get_text'\n"
     ]
    },
    {
     "name": "stderr",
     "output_type": "stream",
     "text": [
      " 86%|████████▌ | 308/360 [02:08<00:09,  5.77it/s]"
     ]
    },
    {
     "name": "stdout",
     "output_type": "stream",
     "text": [
      "Error at:  https://vietnambiz.vn//hon-28-trieu-ty-dong-dau-tu-cho-khu-vuc-nong-thon-2024102720317543.htm 'NoneType' object has no attribute 'get_text'\n",
      "Error at:  https://vietnambiz.vn//doan-giam-sat-quoc-hoi-nhieu-dia-phuong-cham-xay-nha-o-xa-hoi-202410271513823.htm 'NoneType' object has no attribute 'get_text'\n"
     ]
    },
    {
     "name": "stderr",
     "output_type": "stream",
     "text": [
      " 86%|████████▌ | 310/360 [02:08<00:07,  6.82it/s]"
     ]
    },
    {
     "name": "stdout",
     "output_type": "stream",
     "text": [
      "Error at:  https://vietnambiz.vn//danh-thue-bat-dong-san-thu-hai-can-dung-nguoi-dung-thoi-diem-2024102713402364.htm 'NoneType' object has no attribute 'get_text'\n",
      "Error at:  https://vietnambiz.vn//khai-thac-tro-lai-4-cang-hang-khong-san-bay-khu-vuc-mien-trung-20241027133742679.htm 'NoneType' object has no attribute 'get_text'\n"
     ]
    },
    {
     "name": "stderr",
     "output_type": "stream",
     "text": [
      " 87%|████████▋ | 312/360 [02:08<00:06,  7.40it/s]"
     ]
    },
    {
     "name": "stdout",
     "output_type": "stream",
     "text": [
      "Error at:  https://vietnambiz.vn//thuong-mai-dien-tu-khong-duoc-kiem-soat-tot-se-gay-mat-cong-bang-that-thu-thue-2024102782945304.htm 'NoneType' object has no attribute 'get_text'\n",
      "Error at:  https://vietnambiz.vn//ong-vu-dai-thang-giu-chuc-bi-thu-tinh-uy-quang-ninh-202410278235382.htm 'NoneType' object has no attribute 'get_text'\n"
     ]
    },
    {
     "name": "stderr",
     "output_type": "stream",
     "text": [
      " 87%|████████▋ | 314/360 [02:08<00:06,  7.56it/s]"
     ]
    },
    {
     "name": "stdout",
     "output_type": "stream",
     "text": [
      "Error at:  https://vietnambiz.vn//ben-le-ky-hop-thu-8-quoc-hoi-khoa-xv-ba-dot-pha-chien-luoc-thuc-day-tang-truong-kinh-te-2024102775513579.htm 'NoneType' object has no attribute 'get_text'\n",
      "Error at:  https://vietnambiz.vn//thao-go-kho-khan-de-het-nam-2025-co-ban-hoan-thanh-600-km-duong-cao-toc-vung-dong-bang-song-cuu-long-20241026193554913.htm 'NoneType' object has no attribute 'get_text'\n"
     ]
    },
    {
     "name": "stderr",
     "output_type": "stream",
     "text": [
      " 88%|████████▊ | 316/360 [02:09<00:05,  7.81it/s]"
     ]
    },
    {
     "name": "stdout",
     "output_type": "stream",
     "text": [
      "Error at:  https://vietnambiz.vn//du-an-duong-vanh-dai-4-vung-thu-do-hung-yen-se-ban-giao-mat-bang-truoc-3112-20241026194030446.htm 'NoneType' object has no attribute 'get_text'\n",
      "Error at:  https://vietnambiz.vn//buoc-tien-trong-quan-ly-thue-doi-voi-hoat-dong-thuong-mai-dien-tu-20241026193649489.htm 'NoneType' object has no attribute 'get_text'\n"
     ]
    },
    {
     "name": "stderr",
     "output_type": "stream",
     "text": [
      " 88%|████████▊ | 318/360 [02:09<00:05,  7.97it/s]"
     ]
    },
    {
     "name": "stdout",
     "output_type": "stream",
     "text": [
      "Error at:  https://vietnambiz.vn//bi-thu-nghe-an-thai-thanh-quy-lam-pho-ban-kinh-te-trung-uong-20241026193719449.htm 'NoneType' object has no attribute 'get_text'\n",
      "Error at:  https://vietnambiz.vn//tong-bi-thu-phai-co-nguoi-chiu-trach-nhiem-khi-xay-ra-lang-phi-20241026193840251.htm 'NoneType' object has no attribute 'get_text'\n"
     ]
    },
    {
     "name": "stderr",
     "output_type": "stream",
     "text": [
      " 89%|████████▉ | 320/360 [02:09<00:04,  8.11it/s]"
     ]
    },
    {
     "name": "stdout",
     "output_type": "stream",
     "text": [
      "Error at:  https://vietnambiz.vn//thu-tuong-pham-minh-chinh-tham-ba-nuoc-co-nen-kinh-te-hang-dau-trung-dong-20241026193345643.htm 'NoneType' object has no attribute 'get_text'\n",
      "Error at:  https://vietnambiz.vn//bac-giang-muon-co-hai-khu-kinh-te-dem-2024102615539384.htm 'NoneType' object has no attribute 'get_text'\n"
     ]
    },
    {
     "name": "stderr",
     "output_type": "stream",
     "text": [
      " 95%|█████████▌| 342/360 [02:23<00:07,  2.53it/s]"
     ]
    },
    {
     "name": "stdout",
     "output_type": "stream",
     "text": [
      "Error at:  https://vietnambiz.vn//giam-doc-phan-tich-vndirect-neu-ly-do-vn-index-co-kha-nang-vuot-1400-diem-nam-nay-20248785759456.htm 'NoneType' object has no attribute 'get_text'\n",
      "Error at:  https://vietnambiz.vn//ts-can-van-luc-boj-tang-lai-suat-dung-thoi-diem-co-nhieu-bat-on-dan-den-tam-ly-tieu-cuc-thai-qua-20248774129130.htm 'NoneType' object has no attribute 'get_text'\n"
     ]
    },
    {
     "name": "stderr",
     "output_type": "stream",
     "text": [
      " 96%|█████████▌| 344/360 [02:24<00:04,  3.90it/s]"
     ]
    },
    {
     "name": "stdout",
     "output_type": "stream",
     "text": [
      "Error at:  https://vietnambiz.vn//nhieu-yeu-to-kho-luong-cho-ttck-cuoi-nam-ndt-nen-hanh-dong-ra-sao-202486123659752.htm 'NoneType' object has no attribute 'get_text'\n",
      "Error at:  https://vietnambiz.vn//tang-luong-giam-thue-san-xuat-hoi-phuc-se-keo-tieu-dung-vuot-day-202486144518586.htm 'NoneType' object has no attribute 'get_text'\n"
     ]
    },
    {
     "name": "stderr",
     "output_type": "stream",
     "text": [
      " 96%|█████████▌| 346/360 [02:24<00:02,  5.20it/s]"
     ]
    },
    {
     "name": "stdout",
     "output_type": "stream",
     "text": [
      "Error at:  https://vietnambiz.vn//chung-khoan-mirae-asset-kich-ban-tieu-cuc-vn-index-co-the-roi-ve-1050-1150-diem-trong-thang-8-202486103820475.htm 'NoneType' object has no attribute 'get_text'\n",
      "Error at:  https://vietnambiz.vn//gia-vang-tang-len-muc-cao-ky-luc-co-the-dang-lam-giam-nhu-cau-20248610210358.htm 'NoneType' object has no attribute 'get_text'\n"
     ]
    },
    {
     "name": "stderr",
     "output_type": "stream",
     "text": [
      " 97%|█████████▋| 348/360 [02:24<00:01,  6.29it/s]"
     ]
    },
    {
     "name": "stdout",
     "output_type": "stream",
     "text": [
      "Error at:  https://vietnambiz.vn//ndt-nen-lam-gi-khi-chung-khoan-mat-moc-1200-2024851617616.htm 'NoneType' object has no attribute 'get_text'\n",
      "Error at:  https://vietnambiz.vn//agriseco-buc-tranh-loi-nhuan-quy-ii-tich-cuc-dinh-gia-ttck-dang-hap-dan-20248573517616.htm 'NoneType' object has no attribute 'get_text'\n"
     ]
    },
    {
     "name": "stderr",
     "output_type": "stream",
     "text": [
      " 97%|█████████▋| 350/360 [02:24<00:01,  6.86it/s]"
     ]
    },
    {
     "name": "stdout",
     "output_type": "stream",
     "text": [
      "Error at:  https://vietnambiz.vn//chung-khoan-qua-lang-kinh-ky-thuat-xac-nhan-pha-ru-bo-thi-truong-buoc-vao-chu-ky-tang-gia-moi-202483191740782.htm 'NoneType' object has no attribute 'get_text'\n",
      "Error at:  https://vietnambiz.vn//vpsa-gia-ho-tieu-se-co-nhung-dot-bien-dong-bat-thuong-trong-thoi-gian-toi-2024731121034264.htm 'NoneType' object has no attribute 'get_text'\n"
     ]
    },
    {
     "name": "stderr",
     "output_type": "stream",
     "text": [
      " 98%|█████████▊| 352/360 [02:25<00:01,  7.44it/s]"
     ]
    },
    {
     "name": "stdout",
     "output_type": "stream",
     "text": [
      "Error at:  https://vietnambiz.vn//vietcap-du-bao-vn-index-dat-1350-diem-cuoi-nam-va-chi-ra-nhung-nhom-nganh-tiem-nang-2024730121113487.htm 'NoneType' object has no attribute 'get_text'\n",
      "Error at:  https://vietnambiz.vn//chuyen-gia-nhan-dinh-gi-ve-gia-vang-trong-nuoc-trong-ngan-han-2024729204223280.htm 'NoneType' object has no attribute 'get_text'\n"
     ]
    },
    {
     "name": "stderr",
     "output_type": "stream",
     "text": [
      " 98%|█████████▊| 354/360 [02:25<00:00,  7.66it/s]"
     ]
    },
    {
     "name": "stdout",
     "output_type": "stream",
     "text": [
      "Error at:  https://vietnambiz.vn//ty-gia-usdvnd-kho-giam-xuong-duoi-25000-trong-nam-2024-2024729105756910.htm 'NoneType' object has no attribute 'get_text'\n",
      "Error at:  https://vietnambiz.vn//chuyen-gia-lam-phat-thang-6-da-dat-dinh-ca-nam-co-the-giam-xuong-36-20247251651420.htm 'NoneType' object has no attribute 'get_text'\n"
     ]
    },
    {
     "name": "stderr",
     "output_type": "stream",
     "text": [
      " 99%|█████████▉| 356/360 [02:25<00:00,  8.11it/s]"
     ]
    },
    {
     "name": "stdout",
     "output_type": "stream",
     "text": [
      "Error at:  https://vietnambiz.vn//vasep-gia-tom-co-the-cai-thien-tu-quy-iii-2024724154150149.htm 'NoneType' object has no attribute 'get_text'\n",
      "Error at:  https://vietnambiz.vn//hsbc-nang-du-bao-tang-truong-gdp-viet-nam-cu-hich-manh-me-cua-nen-kinh-te-da-toi-202472411496934.htm 'NoneType' object has no attribute 'get_text'\n"
     ]
    },
    {
     "name": "stderr",
     "output_type": "stream",
     "text": [
      " 99%|█████████▉| 358/360 [02:25<00:00,  7.82it/s]"
     ]
    },
    {
     "name": "stdout",
     "output_type": "stream",
     "text": [
      "Error at:  https://vietnambiz.vn//du-kien-nhap-khau-45-trieu-tan-xang-dau-trong-nua-cuoi-nam-2024-202472494735692.htm 'NoneType' object has no attribute 'get_text'\n",
      "Error at:  https://vietnambiz.vn//trien-vong-ha-nhiet-gia-gao-the-gioi-2024723194456455.htm 'NoneType' object has no attribute 'get_text'\n"
     ]
    },
    {
     "name": "stderr",
     "output_type": "stream",
     "text": [
      "100%|██████████| 360/360 [02:26<00:00,  2.46it/s]"
     ]
    },
    {
     "name": "stdout",
     "output_type": "stream",
     "text": [
      "Error at:  https://vietnambiz.vn//kbsv-nhnn-se-khong-phai-ban-manh-ngoai-te-hay-tang-lai-suat-trong-nua-cuoi-nam-2024723155159594.htm 'NoneType' object has no attribute 'get_text'\n",
      "Error at:  https://vietnambiz.vn//chinh-phu-dat-muc-tieu-den-2030-tang-truong-gdp-7nam-gdp-binh-quan-dau-nguoi-7500-usd-2024723155028863.htm 'NoneType' object has no attribute 'get_text'\n"
     ]
    },
    {
     "name": "stderr",
     "output_type": "stream",
     "text": [
      "\n"
     ]
    }
   ],
   "source": [
    "dates = []\n",
    "urls = []\n",
    "titles = []\n",
    "descs = []\n",
    "categs = []\n",
    "bodies = []\n",
    "sources = []\n",
    "\n",
    "for link in tqdm(all_url):\n",
    "    try:\n",
    "        data = get_article(link)\n",
    "        if data[\"date\"] < datetime(2024, 10, 30):\n",
    "            next\n",
    "        else:\n",
    "            dates.append(data[\"date\"])\n",
    "            sources.append(data[\"source\"])\n",
    "            urls.append(link)\n",
    "            titles.append(data[\"title\"])\n",
    "            descs.append(data[\"desc\"])\n",
    "            categs.append(data[\"categ\"])\n",
    "            bodies.append(data[\"body\"])\n",
    "    except Exception as error:\n",
    "        print('Error at: ', link , error)\n",
    "\n",
    "vnbiz_data = pd.DataFrame(\n",
    "    {\n",
    "        'date':dates, 'source':sources, 'url':urls, 'title':titles, 'description':descs, 'category':categs, 'body':bodies\n",
    "    }\n",
    ")"
   ]
  },
  {
   "cell_type": "code",
   "execution_count": 6,
   "metadata": {},
   "outputs": [],
   "source": [
    "vnbiz_data.to_csv(\"VnBiz_data.csv\")"
   ]
  }
 ],
 "metadata": {
  "kernelspec": {
   "display_name": "ds",
   "language": "python",
   "name": "python3"
  },
  "language_info": {
   "codemirror_mode": {
    "name": "ipython",
    "version": 3
   },
   "file_extension": ".py",
   "mimetype": "text/x-python",
   "name": "python",
   "nbconvert_exporter": "python",
   "pygments_lexer": "ipython3",
   "version": "3.9.18"
  }
 },
 "nbformat": 4,
 "nbformat_minor": 2
}
