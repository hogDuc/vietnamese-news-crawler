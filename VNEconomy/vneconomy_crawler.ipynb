{
 "cells": [
  {
   "cell_type": "code",
   "execution_count": 218,
   "metadata": {},
   "outputs": [],
   "source": [
    "import pandas as pd\n",
    "from bs4 import BeautifulSoup\n",
    "import requests\n",
    "from datetime import datetime\n",
    "import re\n",
    "from tqdm import tqdm"
   ]
  },
  {
   "cell_type": "code",
   "execution_count": null,
   "metadata": {},
   "outputs": [],
   "source": [
    "def get_featured_url(category, max_page):\n",
    "    featured_urls = []\n",
    "    for page in range(1, max_page+1):\n",
    "        vnecon = f\"https://vneconomy.vn/{category}.htm?trang={page}\"\n",
    "        html = BeautifulSoup(\n",
    "            requests.get(vnecon).content, 'html.parser'\n",
    "        )\n",
    "        featured = html.find(\"div\", {'class':'col-12 col-lg-9 column-border'})\n",
    "        heading3 = featured.find_all(\"h3\", {'class':\"story__title\"})\n",
    "        featured_urls.extend(['https://vneconomy.vn' + a.find('a').get('href') for a in heading3])\n",
    "        return featured_urls"
   ]
  },
  {
   "cell_type": "code",
   "execution_count": 220,
   "metadata": {},
   "outputs": [],
   "source": [
    "def get_article(url):\n",
    "    html = BeautifulSoup(requests.get(url).content, 'html.parser')\n",
    "    date = datetime.strptime(\n",
    "        html.find('div', {'class':'detail__meta'}).get_text(), \n",
    "        '%H:%M %d/%m/%Y'\n",
    "    ).timestamp()\n",
    "    title = html.find('h1', {'class':'detail__title'}).get_text().strip()\n",
    "    desc = html.find('h2', {'detail__summary'}).get_text().strip()\n",
    "    categ = html.find('h1', {'class':'category-main'}).find('a').get_text().strip()\n",
    "    body = html.find(\"div\", {\"class\":'detail__content'})\n",
    "    body_text = [text.get_text().strip() for text in body.find_all(\"p\")]\n",
    "    body_text = \" \".join(body_text)\n",
    "    return {\n",
    "        'date': date,\n",
    "        'title': title,\n",
    "        'desc': desc,\n",
    "        'body': body_text,\n",
    "        'categ': categ\n",
    "    }"
   ]
  },
  {
   "cell_type": "code",
   "execution_count": 221,
   "metadata": {},
   "outputs": [],
   "source": [
    "# Get highlight section\n",
    "vnecon = \"https://vneconomy.vn/dau-tu.htm?trang=1\"\n",
    "html = BeautifulSoup(\n",
    "    requests.get(vnecon).content, 'html.parser'\n",
    ")\n",
    "highlight = html.find(\"section\", {'class':'zone zone--highlight'})\n",
    "story_highlight = highlight.find('div', {'class':'row'}).find_all('h3', {'class':'story__title'})\n",
    "story_highlight_url = ['https://vneconomy.vn' + a.find('a').get('href') for a in story_highlight]"
   ]
  },
  {
   "cell_type": "code",
   "execution_count": 222,
   "metadata": {},
   "outputs": [],
   "source": [
    "vne = pd.DataFrame(\n",
    "    {\n",
    "        \"muc\": [\"dau-tu\", 'tai-chinh', 'kinh-te-the-gioi', 'thi-truong', 'nhip-cau-doanh-nghiep', 'dia-oc'],\n",
    "        'max_page': [10, 10, 9, 10, 12, 13]\n",
    "    }\n",
    ")\n",
    "vne = vne.set_index(\"muc\")"
   ]
  },
  {
   "cell_type": "code",
   "execution_count": 223,
   "metadata": {},
   "outputs": [],
   "source": [
    "featured_urls = []\n",
    "for category in list(vne.index):\n",
    "    featured_urls.extend(get_featured_url(category, vne.loc[category, \"max_page\"]))"
   ]
  },
  {
   "cell_type": "code",
   "execution_count": 224,
   "metadata": {},
   "outputs": [],
   "source": [
    "all_urls = [*story_highlight_url, *featured_urls]"
   ]
  },
  {
   "cell_type": "code",
   "execution_count": 225,
   "metadata": {},
   "outputs": [
    {
     "data": {
      "text/plain": [
       "41"
      ]
     },
     "execution_count": 225,
     "metadata": {},
     "output_type": "execute_result"
    }
   ],
   "source": [
    "len(all_urls)"
   ]
  },
  {
   "cell_type": "code",
   "execution_count": null,
   "metadata": {},
   "outputs": [
    {
     "name": "stderr",
     "output_type": "stream",
     "text": [
      " 78%|███████▊  | 32/41 [00:06<00:01,  5.11it/s]"
     ]
    },
    {
     "name": "stdout",
     "output_type": "stream",
     "text": [
      "Error at: https://vneconomy.vn/nganh-cong-nghiep-cua-ha-tinh-gap-kho.htm :  'NoneType' object has no attribute 'find'\n"
     ]
    },
    {
     "name": "stderr",
     "output_type": "stream",
     "text": [
      "100%|██████████| 41/41 [00:08<00:00,  4.94it/s]\n"
     ]
    }
   ],
   "source": [
    "dates = []\n",
    "urls = []\n",
    "titles = []\n",
    "descs = []\n",
    "categs = []\n",
    "bodies = []\n",
    "for url in tqdm(all_urls):\n",
    "    try:\n",
    "        info = get_article(url)\n",
    "        if info['date'] < < datetime.strptime('30/10/2024 00:00', '%d/%m/%Y %H:%M').timestamp():\n",
    "            next\n",
    "        dates.append(info[\"date\"])\n",
    "        urls.append(url)\n",
    "        titles.append(info[\"title\"])\n",
    "        descs.append(info[\"desc\"])\n",
    "        bodies.append(info[\"body\"])\n",
    "        categs.append(info[\"categ\"])\n",
    "    except Exception as error:\n",
    "        print(\"Error at:\", url, \": \", error)\n",
    "\n",
    "dict = {\n",
    "    'date': dates,\n",
    "    # 'source' : 'cafef',\n",
    "    'url' : urls,\n",
    "    'title' : titles,\n",
    "    'description' : descs,\n",
    "    'category' : categs,\n",
    "    'body' : bodies\n",
    "}\n",
    "data = pd.DataFrame(dict)\n",
    "data[\"source\"] = \"VNEconomy\""
   ]
  },
  {
   "cell_type": "code",
   "execution_count": 228,
   "metadata": {},
   "outputs": [],
   "source": [
    "data.to_csv(\"vneconomy_data.csv\")"
   ]
  }
 ],
 "metadata": {
  "kernelspec": {
   "display_name": "ds",
   "language": "python",
   "name": "python3"
  },
  "language_info": {
   "codemirror_mode": {
    "name": "ipython",
    "version": 3
   },
   "file_extension": ".py",
   "mimetype": "text/x-python",
   "name": "python",
   "nbconvert_exporter": "python",
   "pygments_lexer": "ipython3",
   "version": "3.9.18"
  }
 },
 "nbformat": 4,
 "nbformat_minor": 2
}
