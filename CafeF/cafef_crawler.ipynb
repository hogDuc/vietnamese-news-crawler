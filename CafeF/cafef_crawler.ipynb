{
 "cells": [
  {
   "cell_type": "code",
   "execution_count": 1,
   "metadata": {},
   "outputs": [],
   "source": [
    "import pandas as pd\n",
    "from bs4 import BeautifulSoup\n",
    "import requests\n",
    "from datetime import datetime\n",
    "import re\n",
    "from tqdm import tqdm"
   ]
  },
  {
   "cell_type": "code",
   "execution_count": 2,
   "metadata": {},
   "outputs": [],
   "source": [
    "cff = pd.DataFrame(\n",
    "    {\n",
    "        \"muc\": [\"chung_khoan\", \"bds\", 'doanh_nghiep', 'ngan_hang', 'vi_mo', \"tcqt\", 'thi_truong'],\n",
    "        'id': [18831, 18832, 18833, 18834, 18835, 18836, 18839],\n",
    "        'max_page': [10, 16, 13, 9, 10, 16, 15]\n",
    "    }\n",
    ")\n",
    "cff = cff.set_index(\"muc\")"
   ]
  },
  {
   "cell_type": "code",
   "execution_count": 3,
   "metadata": {},
   "outputs": [],
   "source": [
    "def get_article(url):\n",
    "    url_test = url\n",
    "    html_test = BeautifulSoup(requests.get(url_test).content, 'html.parser')\n",
    "\n",
    "    dateandcat = html_test.find(\"p\", {\"class\":\"dateandcat\"})\n",
    "    title = html_test.find(\"h1\", {\"data-role\":\"title\"}).get_text().strip()\n",
    "    date = datetime.strptime(\n",
    "        dateandcat.find(\"span\", {\"class\":\"pdate\"}).get_text()[:-4],\n",
    "        '%d-%m-%Y - %H:%M'\n",
    "    ).timestamp()\n",
    "    description = html_test.find(\"h2\", {\"class\": \"sapo\"}).get_text().strip()\n",
    "    categ = dateandcat.find(\"a\", {\"data-role\":\"cate-name\"}).get_text()\n",
    "\n",
    "    body = [text.get_text().strip() for text in html_test.find(\"div\", {\"id\":\"mainContent\"}).find_all(\"p\")]\n",
    "    body = ' '.join(body).replace(\"\\n\", \"\")\n",
    "    return {\"date\": date, \"title\":title, \"des\": description, \"categ\": categ, \"body\": body}"
   ]
  },
  {
   "cell_type": "code",
   "execution_count": null,
   "metadata": {},
   "outputs": [],
   "source": [
    "def crawl_cafef(categ_id, max_page):\n",
    "    article_urls = []\n",
    "    for page in range(1, max_page + 1):\n",
    "        url = f'https://cafef.vn/timelinelist/{categ_id}/{page}.chn'\n",
    "        req = requests.get(url).content\n",
    "        html = BeautifulSoup(req, \"html.parser\")\n",
    "        article_urls.extend(['https://cafef.vn' + h3.find(\"a\").get(\"href\") for h3 in html.find_all(\"h3\")])\n",
    "    urls = []\n",
    "    dates = []\n",
    "    titles = []\n",
    "    descs = []\n",
    "    categs = []\n",
    "    bodies = []\n",
    "    # i = 0\n",
    "    for url in tqdm(article_urls):\n",
    "        # print(len(article_urls) - i , \"articles remaining\")\n",
    "        try:\n",
    "            data = get_article(url)\n",
    "            if data[\"date\"] < datetime.strptime('30/10/2024 00:00', '%d/%m/%Y %H:%M').timestamp():\n",
    "                next\n",
    "            else:\n",
    "                urls.append(url)\n",
    "                dates.append(data[\"date\"])\n",
    "                titles.append(data[\"title\"])\n",
    "                descs.append(data[\"des\"])\n",
    "                categs.append(data[\"categ\"])\n",
    "                bodies.append(data[\"body\"])\n",
    "                # i += 1\n",
    "        except Exception as error:\n",
    "            print(f'error at: ', url, error)\n",
    "\n",
    "    dict = {\n",
    "        'date': dates,\n",
    "        # 'source' : 'cafef',\n",
    "        'url' : urls,\n",
    "        'title' : titles,\n",
    "        'description' : descs,\n",
    "        'category' : categs,\n",
    "        'body' : bodies\n",
    "    }\n",
    "    data = pd.DataFrame(dict)\n",
    "    data[\"source\"] = \"CafeF\"\n",
    "    return data"
   ]
  },
  {
   "cell_type": "code",
   "execution_count": 5,
   "metadata": {},
   "outputs": [
    {
     "name": "stderr",
     "output_type": "stream",
     "text": [
      "100%|██████████| 150/150 [00:37<00:00,  4.02it/s]\n",
      " 22%|██▏       | 53/240 [00:11<00:46,  4.04it/s]"
     ]
    },
    {
     "name": "stdout",
     "output_type": "stream",
     "text": [
      "error at:  https://cafef.vn/big-story/ket-qua-cuoc-dua-trump-harris-23-3-ong-trump-gianh-duoc-3-bang-ba-harris-thang-o-vermont-188241106074440362.chn 'NoneType' object has no attribute 'find'\n"
     ]
    },
    {
     "name": "stderr",
     "output_type": "stream",
     "text": [
      " 31%|███       | 74/240 [00:17<00:45,  3.65it/s]"
     ]
    },
    {
     "name": "stdout",
     "output_type": "stream",
     "text": [
      "error at:  https://cafef.vn/big-story/my-chinh-thuc-buoc-vao-ngay-bau-cu-da-co-ket-qua-cua-diem-bo-phieu-dau-tien-188241105144036214.chn 'NoneType' object has no attribute 'find'\n"
     ]
    },
    {
     "name": "stderr",
     "output_type": "stream",
     "text": [
      " 32%|███▎      | 78/240 [00:18<00:42,  3.84it/s]"
     ]
    },
    {
     "name": "stdout",
     "output_type": "stream",
     "text": [
      "error at:  https://cafef.vn/nhung-ti-phu-cong-nghe-am-tham-ung-ho-hai-ung-vien-tong-thong-my-18824110511563972.chn 'NoneType' object has no attribute 'get_text'\n"
     ]
    },
    {
     "name": "stderr",
     "output_type": "stream",
     "text": [
      " 39%|███▉      | 94/240 [00:22<00:37,  3.92it/s]"
     ]
    },
    {
     "name": "stdout",
     "output_type": "stream",
     "text": [
      "error at:  https://cafef.vn/tan-tong-thong-my-va-nhung-kich-ban-sau-bau-cu-188241105073319444.chn 'NoneType' object has no attribute 'get_text'\n"
     ]
    },
    {
     "name": "stderr",
     "output_type": "stream",
     "text": [
      "100%|██████████| 240/240 [01:00<00:00,  3.96it/s]\n",
      " 86%|████████▌ | 168/195 [00:43<00:06,  3.86it/s]"
     ]
    },
    {
     "name": "stdout",
     "output_type": "stream",
     "text": [
      "Min date reached!\n"
     ]
    },
    {
     "name": "stderr",
     "output_type": "stream",
     "text": [
      "\n",
      "  8%|▊         | 11/135 [00:02<00:26,  4.70it/s]"
     ]
    },
    {
     "name": "stdout",
     "output_type": "stream",
     "text": [
      "error at:  https://cafef.vn/cu-chuyen-minh-giup-bidv-metlife-tang-cuong-niem-tin-cua-khach-hang-tren-con-duong-dong-hanh-xay-dung-mot-doi-dang-song-188241105190815865.chn 'NoneType' object has no attribute 'get_text'\n"
     ]
    },
    {
     "name": "stderr",
     "output_type": "stream",
     "text": [
      " 17%|█▋        | 23/135 [00:04<00:23,  4.79it/s]"
     ]
    },
    {
     "name": "stdout",
     "output_type": "stream",
     "text": [
      "error at:  https://cafef.vn/cu-chuyen-minh-giup-bidv-metlife-tang-cuong-niem-tin-cua-khach-hang-tren-con-duong-dong-hanh-xay-dung-mot-doi-dang-song-188241105190815865.chn 'NoneType' object has no attribute 'get_text'\n"
     ]
    },
    {
     "name": "stderr",
     "output_type": "stream",
     "text": [
      " 97%|█████████▋| 131/135 [00:43<00:01,  2.98it/s]"
     ]
    },
    {
     "name": "stdout",
     "output_type": "stream",
     "text": [
      "error at:  https://cafef.vn/vpbank-hanoi-international-marathon-2024-diem-cham-cam-xuc-va-sang-tao-188241029232559217.chn 'NoneType' object has no attribute 'get_text'\n",
      "Min date reached!\n"
     ]
    },
    {
     "name": "stderr",
     "output_type": "stream",
     "text": [
      "\n",
      "100%|██████████| 150/150 [00:36<00:00,  4.10it/s]\n",
      "  3%|▎         | 7/240 [00:01<00:47,  4.87it/s]"
     ]
    },
    {
     "name": "stdout",
     "output_type": "stream",
     "text": [
      "error at:  https://cafef.vn/thuong-hieu-o-to-100-nam-tuoi-va-cau-chuyen-tro-thanh-xe-cua-moi-nha-tai-viet-nam-188241106120610324.chn 'NoneType' object has no attribute 'get_text'\n"
     ]
    },
    {
     "name": "stderr",
     "output_type": "stream",
     "text": [
      " 10%|▉         | 23/240 [00:04<00:37,  5.77it/s]"
     ]
    },
    {
     "name": "stdout",
     "output_type": "stream",
     "text": [
      "error at:  https://cafef.vn/thuong-hieu-o-to-100-nam-tuoi-va-cau-chuyen-tro-thanh-xe-cua-moi-nha-tai-viet-nam-188241106120610324.chn 'NoneType' object has no attribute 'get_text'\n"
     ]
    },
    {
     "name": "stderr",
     "output_type": "stream",
     "text": [
      " 15%|█▍        | 35/240 [00:06<00:37,  5.43it/s]"
     ]
    },
    {
     "name": "stdout",
     "output_type": "stream",
     "text": [
      "error at:  https://cafef.vn/roi-nghe-giang-vien-vi-me-ngam-bang-dien-ceo-manulife-investment-management-viet-nam-tiet-lo-bi-kip-giup-dau-tu-vui-ve-va-tre-trung-188241106001814072.chn 'NoneType' object has no attribute 'get_text'\n"
     ]
    },
    {
     "name": "stderr",
     "output_type": "stream",
     "text": [
      " 62%|██████▏   | 148/240 [00:43<00:26,  3.43it/s]"
     ]
    },
    {
     "name": "stdout",
     "output_type": "stream",
     "text": [
      "error at:  https://cafef.vn/xay-dung-duong-cao-toc-cong-nghe-nganh-duoc-nhin-tu-su-quyet-liet-cua-gonsa-188241031124511682.chn 'NoneType' object has no attribute 'get_text'\n"
     ]
    },
    {
     "name": "stderr",
     "output_type": "stream",
     "text": [
      " 65%|██████▍   | 155/240 [00:45<00:18,  4.54it/s]"
     ]
    },
    {
     "name": "stdout",
     "output_type": "stream",
     "text": [
      "error at:  https://cafef.vn/viet-nam-co-nhieu-tiem-nang-de-thuc-day-tang-truong-xuat-khau-truc-tuyen-thong-qua-thuong-mai-dien-tu-188241031094543644.chn 'NoneType' object has no attribute 'get_text'\n"
     ]
    },
    {
     "name": "stderr",
     "output_type": "stream",
     "text": [
      " 79%|███████▉  | 189/240 [00:53<00:10,  4.79it/s]"
     ]
    },
    {
     "name": "stdout",
     "output_type": "stream",
     "text": [
      "error at:  https://cafef.vn/ong-tran-le-nguyen-chia-se-bi-quyet-ma-cua-kido-va-loi-khuyen-dac-biet-danh-cho-nha-dau-tu-ca-nhan-188241030002531918.chn 'NoneType' object has no attribute 'get_text'\n"
     ]
    },
    {
     "name": "stderr",
     "output_type": "stream",
     "text": [
      " 80%|███████▉  | 191/240 [00:55<00:14,  3.42it/s]"
     ]
    },
    {
     "name": "stdout",
     "output_type": "stream",
     "text": [
      "Min date reached!\n"
     ]
    },
    {
     "name": "stderr",
     "output_type": "stream",
     "text": [
      "\n",
      " 92%|█████████▏| 207/225 [01:32<00:08,  2.23it/s]"
     ]
    },
    {
     "name": "stdout",
     "output_type": "stream",
     "text": [
      "Min date reached!\n"
     ]
    },
    {
     "name": "stderr",
     "output_type": "stream",
     "text": [
      "\n"
     ]
    }
   ],
   "source": [
    "chung_khoan = crawl_cafef(\n",
    "    cff.loc[\"chung_khoan\", \"id\"],\n",
    "    cff.loc[\"chung_khoan\", \"max_page\"]\n",
    ")\n",
    "chung_khoan.to_csv(\"cafef_chung_khoan.csv\", index= False)\n",
    "\n",
    "bds = crawl_cafef(\n",
    "    cff.loc[\"bds\", \"id\"],\n",
    "    cff.loc[\"bds\", \"max_page\"]\n",
    ")\n",
    "bds.to_csv(\"cafef_bds.csv\", index= False)\n",
    "\n",
    "doanh_nghiep = crawl_cafef(\n",
    "    cff.loc[\"doanh_nghiep\", \"id\"],\n",
    "    cff.loc[\"doanh_nghiep\", \"max_page\"]\n",
    ")\n",
    "doanh_nghiep.to_csv('cafef_dn.csv', index= False)\n",
    "\n",
    "ngan_hang = crawl_cafef(\n",
    "    cff.loc[\"ngan_hang\", \"id\"],\n",
    "    cff.loc[\"ngan_hang\", \"max_page\"]\n",
    ")\n",
    "ngan_hang.to_csv(\"cafef_ngan_hang.csv\", index= False)\n",
    "\n",
    "vi_mo = crawl_cafef(\n",
    "    cff.loc[\"vi_mo\", \"id\"],\n",
    "    cff.loc[\"vi_mo\", \"max_page\"]\n",
    ")\n",
    "vi_mo.to_csv(\"cafef_vi_mo.csv\", index= False)\n",
    "\n",
    "tcqt = crawl_cafef(\n",
    "    cff.loc[\"tcqt\", \"id\"],\n",
    "    cff.loc[\"tcqt\", \"max_page\"]\n",
    ")\n",
    "tcqt.to_csv(\"cafef_tcqt.csv\", index= False)\n",
    "\n",
    "thi_truong = crawl_cafef(\n",
    "    cff.loc[\"thi_truong\", \"id\"],\n",
    "    cff.loc[\"thi_truong\", \"max_page\"]\n",
    ")\n",
    "thi_truong.to_csv(\"cafef_thi_truong.csv\", index= False)\n"
   ]
  },
  {
   "cell_type": "code",
   "execution_count": 13,
   "metadata": {},
   "outputs": [],
   "source": [
    "cafef_news_data = pd.concat([chung_khoan, bds, doanh_nghiep, ngan_hang, vi_mo, tcqt, thi_truong])\n",
    "cafef_news_data.to_csv(\"CafeF_data.csv\")"
   ]
  }
 ],
 "metadata": {
  "kernelspec": {
   "display_name": "ds",
   "language": "python",
   "name": "python3"
  },
  "language_info": {
   "codemirror_mode": {
    "name": "ipython",
    "version": 3
   },
   "file_extension": ".py",
   "mimetype": "text/x-python",
   "name": "python",
   "nbconvert_exporter": "python",
   "pygments_lexer": "ipython3",
   "version": "3.9.18"
  }
 },
 "nbformat": 4,
 "nbformat_minor": 2
}
