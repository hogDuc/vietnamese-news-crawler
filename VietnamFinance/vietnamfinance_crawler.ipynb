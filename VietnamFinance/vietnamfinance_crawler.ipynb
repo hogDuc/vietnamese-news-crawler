{
 "cells": [
  {
   "cell_type": "code",
   "execution_count": 9,
   "metadata": {},
   "outputs": [],
   "source": [
    "import pandas as pd\n",
    "from bs4 import BeautifulSoup\n",
    "import requests\n",
    "from datetime import datetime\n",
    "import re\n",
    "from tqdm import tqdm"
   ]
  },
  {
   "cell_type": "code",
   "execution_count": 10,
   "metadata": {},
   "outputs": [],
   "source": [
    "categories = [3, 4, 11, 12, 22, 23, 17, 5]\n",
    "current_time = datetime.strftime(datetime.now(), format= '%Y-%m-%d %H:%M:%S')"
   ]
  },
  {
   "cell_type": "code",
   "execution_count": null,
   "metadata": {},
   "outputs": [],
   "source": [
    "cookies = {\n",
    "    'cf_clearance': '6Ad8RJXKzxD82MjvxjlCUIq6562XW7_p9OyzNUSyvRE-1714989711-1.0.1.1-jZfVormzRhzQ2uvKthKL.K6Z.ychGdUfEPwvgKf6qUYRROe2WzDUcp3owldgM3lEjq.6vV6FW_OXs9MqticisQ',\n",
    "    '_gid': 'GA1.2.300395600.1731375755',\n",
    "    '_gat_gtag_UA_69723249_1': '1',\n",
    "    '_ga': 'GA1.2.406924487.1730960927',\n",
    "    '_ga_VB94C3HYT3': 'GS1.1.1731375752.6.1.1731375771.41.0.0',\n",
    "}\n",
    "\n",
    "headers = {\n",
    "    'accept': '*/*',\n",
    "    'accept-language': 'en-US,en;q=0.9,vi;q=0.8',\n",
    "    'content-type': 'application/x-www-form-urlencoded',\n",
    "    # 'cookie': 'cf_clearance=6Ad8RJXKzxD82MjvxjlCUIq6562XW7_p9OyzNUSyvRE-1714989711-1.0.1.1-jZfVormzRhzQ2uvKthKL.K6Z.ychGdUfEPwvgKf6qUYRROe2WzDUcp3owldgM3lEjq.6vV6FW_OXs9MqticisQ; _gid=GA1.2.300395600.1731375755; _gat_gtag_UA_69723249_1=1; _ga=GA1.2.406924487.1730960927; _ga_VB94C3HYT3=GS1.1.1731375752.6.1.1731375771.41.0.0',\n",
    "    'origin': 'https://vietnamfinance.vn',\n",
    "    'priority': 'u=1, i',\n",
    "    'referer': 'https://vietnamfinance.vn/tai-chinh/',\n",
    "    'sec-ch-ua': '\"Chromium\";v=\"130\", \"Microsoft Edge\";v=\"130\", \"Not?A_Brand\";v=\"99\"',\n",
    "    'sec-ch-ua-mobile': '?0',\n",
    "    'sec-ch-ua-platform': '\"Windows\"',\n",
    "    'sec-fetch-dest': 'empty',\n",
    "    'sec-fetch-mode': 'cors',\n",
    "    'sec-fetch-site': 'same-origin',\n",
    "    'user-agent': 'Mozilla/5.0 (Windows NT 10.0; Win64; x64) AppleWebKit/537.36 (KHTML, like Gecko) Chrome/130.0.0.0 Safari/537.36 Edg/130.0.0.0',\n",
    "}\n"
   ]
  },
  {
   "cell_type": "code",
   "execution_count": null,
   "metadata": {},
   "outputs": [],
   "source": [
    "all_urls = []\n",
    "for category in categories:\n",
    "    for i in range(1, 100):\n",
    "        params = {\n",
    "            'mod': 'iframe',\n",
    "            'act': 'loadCate',\n",
    "            'page': f'{i}',\n",
    "        }\n",
    "\n",
    "        data = {\n",
    "            # 'last_id': '118408',\n",
    "            f'last_push': {current_time},\n",
    "            'cate_id': {category},\n",
    "        }\n",
    "\n",
    "        response = requests.post('https://vietnamfinance.vn/', params=params, headers=headers, data=data)\n",
    "        html = BeautifulSoup(response.text, 'html.parser')\n",
    "        for link in html.find_all('a', {'class':'fix-text3'}):\n",
    "            all_urls.append(link.get('href'))\n",
    "        if datetime.strptime(\n",
    "            html.find_all('div', {'cate_id':'3'})[-1].get('last_push'),\n",
    "            '%Y-%m-%d %H:%M:%S'\n",
    "        ).timestamp() < datetime.strptime('30/10/2024 00:00', '%d/%m/%Y %H:%M').timestamp():\n",
    "            break\n",
    "        else:\n",
    "            continue"
   ]
  },
  {
   "cell_type": "code",
   "execution_count": null,
   "metadata": {},
   "outputs": [],
   "source": [
    "def get_article(url):\n",
    "    html = BeautifulSoup(\n",
    "        requests.get(url).content, 'html.parser'\n",
    "    )\n",
    "    title = html.find('h1', {'class':'detail-title mb-20'}).get_text().strip()\n",
    "    date = datetime.strptime(\n",
    "        html.find('div',{'class':'detail-time-public'}).find('span').get_text().strip()[:-8],\n",
    "        '%d/%m/%Y %H:%M'\n",
    "    )\n",
    "    desc = html.find('h2', {'class':'detail-sapo'}).get_text().strip()\n",
    "    body = html.find('div', {'id':'news_detail'}).get_text().strip()\n",
    "    categ = html.find('li', {'class':'breadcrumb-item'}).find('a').get_text().strip()\n",
    "    return {\n",
    "        'title':title, 'date':date, 'desc':desc, 'body':body, 'categ':categ, 'source':'VietnamFinance'\n",
    "    }"
   ]
  },
  {
   "cell_type": "code",
   "execution_count": null,
   "metadata": {},
   "outputs": [
    {
     "data": {
      "text/plain": [
       "{'title': 'AESC bị phạt và truy thu 2,2 tỷ đồng sau thanh tra thuế',\n",
       " 'date': '06/11/2024 09:15',\n",
       " 'desc': '(VNF) - Sau thanh tra, Cục Thuế thành phố Hà Nội yêu cầu truy thu 2,2 tỷ đồng đối với Công ty cổ phần Dịch vụ kỹ thuật Hàng không (AESC).',\n",
       " 'body': 'Ngày 24/10/2024, Cục Thuế thành phố Hà Nội đã ban hành Kết luận Thanh tra  thuế tại Công ty cổ phần Dịch vụ kỹ thuật Hàng không (AESC).Kết quả thanh tra cho thấy, Công ty Dịch vụ kỹ thuật Hàng không còn tồn tại về thuế  TNDN. Cụ thể, Công ty kê khai kê khai khấ u trừ thuế GTGT hàng hóa dịch vụ mua  vào đối với các hóa đơn của doanh nghiệp đã có thông báo không hoạt động tại địa  chỉ kinh doanh (hóa đơn phát sinh trước thời điểm cơ quan thuế ra thông báo);  kê khai sai doanh thu thuế suất 0% đối với hàng hóa không chịu thuế; kê khai  sót hóa đơn điều chỉnh giảm. Trụ sở công ty.Về thuế TNDN: Công ty hạch toán chi phí đối với các hóa đơn mua hàng hóa dịch  vụ của doanh nghiệp có thông báo không hoạt động tại địa chỉ kinh doanh (hóa đơn  phát sinh trước thời điểm cơ quan thuế ra thông báo); chi phí không có hóa đơn  theo quy đị nh; điều chỉnh tăng giả m lợi nhuận chưa chính xác.Về việc sử dụng hóa đơn, qua đối chiếu, rà soát hóa đơn kê khai tại trụ sở  cơ quan thuế , Cục thuế TP Hà Nội xác định năm 2020, 2021 2022 và 2023 Công ty  sử dụng 231 số hóa đơn của doanh nghiệp đã không hoạt động tại địa chỉ đăng ký.  Thời điểm hóa đơn trước thời điểm cơ quan thuế thông báo doanh nghiệp không hoạt  động tại địa chỉ kinh doanh.Căn cứ hồ sơ xuất trình tại thời điểm thanh tra và Công văn của Công ty Dịch  vụ kỹ thuật Hàng không ngày 6/9/2024: Công ty AESC xin điều trình giảm tổng 231  số hoá đơn thuế GTGT đầu vào được khấu trừ số tiền 297 triệu đồng, chi phí tính  thuế TNDN số tiền 3,2 tỷ đồng, lý do: không đầy đủ hồ sơ, không liên hệ được với  người bán để chứng minh.Sau Thanh tra, Cục Thuế thành phố Hà Nội yêu cầu Công ty Dịch vụ kỹ thuật Hàng  không nộp ngay số tiền thuế truy thu, tiền phạt, tiền chậm nộp kể từ ngày nhận  được Quyết định xử phạt vi phạm pháp luật về thuế, tổng số tiền 2,2 tỷ đồng.Trong đó, truy thu thuế GTGT, TNDN số tiền 1,5 tỷ đồng, phạt tiền vi phạm hành  chính số tiền 303 triệu đồng và tiền chậm nộp tính đến ngày 5/10/2024 là 404,7  triệu đồng.Cùng với đó, giảm thuế GTGT đầu vào khấu trừ chuyển kỳ sau (31/12/2023) số tiền  47 triệu đồng.Cục Thuế yêu cầu Công ty Dịch vụ kỹ thuật Hàng không chấn chỉnh, khắc phục  ngay những tồn tại, sai sót trong hạch toán kế toán, kê khai thuế, nộp thuế, quyết  toán thuế theo đúng quy định.Theo tìm hiểu của VietnamFinance, Công ty Dịch vụ kỹ thuật Hàng không thành  lập tháng 6/2008. Lĩnh vực kinh doanh chính là xuất nhập khẩu thiết bị hàng không.AESC là doanh nghiệp tư nhân đầu tiên trong lĩnh vực hàng không tại  Việt nam được các Nhà chức trách hàng không hàng đầu thế giới là FAA và  EASA cùng với Cục Hàng không Việt nam phê chuẩn là Tổ chức bảo dưỡng Part145.Tháng 5/2024 vừa qua, Công ty điều chỉnh vốn điều lệ tăng từ 150 tỷ đồng lên  đạt 200 tỷ đồng. Hiện đại diện pháp luật Công ty là ông Trần Hải Đăng (SN  1974).',\n",
       " 'categ': 'Tài chính'}"
      ]
     },
     "execution_count": 30,
     "metadata": {},
     "output_type": "execute_result"
    }
   ],
   "source": [
    "data = get_article(all_urls[1])"
   ]
  },
  {
   "cell_type": "code",
   "execution_count": null,
   "metadata": {},
   "outputs": [
    {
     "data": {
      "text/plain": [
       "{'title': 'AESC bị phạt và truy thu 2,2 tỷ đồng sau thanh tra thuế',\n",
       " 'date': '06/11/2024 09:15',\n",
       " 'desc': '(VNF) - Sau thanh tra, Cục Thuế thành phố Hà Nội yêu cầu truy thu 2,2 tỷ đồng đối với Công ty cổ phần Dịch vụ kỹ thuật Hàng không (AESC).',\n",
       " 'body': 'Ngày 24/10/2024, Cục Thuế thành phố Hà Nội đã ban hành Kết luận Thanh tra  thuế tại Công ty cổ phần Dịch vụ kỹ thuật Hàng không (AESC).Kết quả thanh tra cho thấy, Công ty Dịch vụ kỹ thuật Hàng không còn tồn tại về thuế  TNDN. Cụ thể, Công ty kê khai kê khai khấ u trừ thuế GTGT hàng hóa dịch vụ mua  vào đối với các hóa đơn của doanh nghiệp đã có thông báo không hoạt động tại địa  chỉ kinh doanh (hóa đơn phát sinh trước thời điểm cơ quan thuế ra thông báo);  kê khai sai doanh thu thuế suất 0% đối với hàng hóa không chịu thuế; kê khai  sót hóa đơn điều chỉnh giảm. Trụ sở công ty.Về thuế TNDN: Công ty hạch toán chi phí đối với các hóa đơn mua hàng hóa dịch  vụ của doanh nghiệp có thông báo không hoạt động tại địa chỉ kinh doanh (hóa đơn  phát sinh trước thời điểm cơ quan thuế ra thông báo); chi phí không có hóa đơn  theo quy đị nh; điều chỉnh tăng giả m lợi nhuận chưa chính xác.Về việc sử dụng hóa đơn, qua đối chiếu, rà soát hóa đơn kê khai tại trụ sở  cơ quan thuế , Cục thuế TP Hà Nội xác định năm 2020, 2021 2022 và 2023 Công ty  sử dụng 231 số hóa đơn của doanh nghiệp đã không hoạt động tại địa chỉ đăng ký.  Thời điểm hóa đơn trước thời điểm cơ quan thuế thông báo doanh nghiệp không hoạt  động tại địa chỉ kinh doanh.Căn cứ hồ sơ xuất trình tại thời điểm thanh tra và Công văn của Công ty Dịch  vụ kỹ thuật Hàng không ngày 6/9/2024: Công ty AESC xin điều trình giảm tổng 231  số hoá đơn thuế GTGT đầu vào được khấu trừ số tiền 297 triệu đồng, chi phí tính  thuế TNDN số tiền 3,2 tỷ đồng, lý do: không đầy đủ hồ sơ, không liên hệ được với  người bán để chứng minh.Sau Thanh tra, Cục Thuế thành phố Hà Nội yêu cầu Công ty Dịch vụ kỹ thuật Hàng  không nộp ngay số tiền thuế truy thu, tiền phạt, tiền chậm nộp kể từ ngày nhận  được Quyết định xử phạt vi phạm pháp luật về thuế, tổng số tiền 2,2 tỷ đồng.Trong đó, truy thu thuế GTGT, TNDN số tiền 1,5 tỷ đồng, phạt tiền vi phạm hành  chính số tiền 303 triệu đồng và tiền chậm nộp tính đến ngày 5/10/2024 là 404,7  triệu đồng.Cùng với đó, giảm thuế GTGT đầu vào khấu trừ chuyển kỳ sau (31/12/2023) số tiền  47 triệu đồng.Cục Thuế yêu cầu Công ty Dịch vụ kỹ thuật Hàng không chấn chỉnh, khắc phục  ngay những tồn tại, sai sót trong hạch toán kế toán, kê khai thuế, nộp thuế, quyết  toán thuế theo đúng quy định.Theo tìm hiểu của VietnamFinance, Công ty Dịch vụ kỹ thuật Hàng không thành  lập tháng 6/2008. Lĩnh vực kinh doanh chính là xuất nhập khẩu thiết bị hàng không.AESC là doanh nghiệp tư nhân đầu tiên trong lĩnh vực hàng không tại  Việt nam được các Nhà chức trách hàng không hàng đầu thế giới là FAA và  EASA cùng với Cục Hàng không Việt nam phê chuẩn là Tổ chức bảo dưỡng Part145.Tháng 5/2024 vừa qua, Công ty điều chỉnh vốn điều lệ tăng từ 150 tỷ đồng lên  đạt 200 tỷ đồng. Hiện đại diện pháp luật Công ty là ông Trần Hải Đăng (SN  1974).',\n",
       " 'categ': 'Tài chính'}"
      ]
     },
     "execution_count": 31,
     "metadata": {},
     "output_type": "execute_result"
    }
   ],
   "source": [
    "dates = []\n",
    "sources = []\n",
    "urls = []\n",
    "titles = []\n",
    "descs = []\n",
    "categs = []\n",
    "bodies = []\n",
    "\n",
    "for link in tqdm(all_urls):\n",
    "    try:\n",
    "        data = get_article(link)\n",
    "        if data['date'] < datetime.strptime('30/10/2024 00:00', '%d/%m/%Y %H:%M').timestamp():\n",
    "            next\n",
    "        dates.append(data[\"date\"])\n",
    "        sources.append(data[\"source\"])\n",
    "        urls.append(link)\n",
    "        titles.append(data[\"title\"])\n",
    "        descs.append(data[\"desc\"])\n",
    "        categs.append(data[\"desc\"])\n",
    "        bodies.append(data['body'])\n",
    "    except Exception as error:\n",
    "        print(f\"Error at:, {link} {error}\")\n",
    "\n",
    "vietnamfinance_data = pd.DataFrame({\n",
    "        'date': dates,\n",
    "        'source' : sources,\n",
    "        'url' : urls,\n",
    "        'title' : titles,\n",
    "        'description' : descs,\n",
    "        'category' : categs,\n",
    "        'body' : bodies\n",
    "    })\n",
    "    "
   ]
  }
 ],
 "metadata": {
  "kernelspec": {
   "display_name": "ds",
   "language": "python",
   "name": "python3"
  },
  "language_info": {
   "codemirror_mode": {
    "name": "ipython",
    "version": 3
   },
   "file_extension": ".py",
   "mimetype": "text/x-python",
   "name": "python",
   "nbconvert_exporter": "python",
   "pygments_lexer": "ipython3",
   "version": "3.9.18"
  }
 },
 "nbformat": 4,
 "nbformat_minor": 2
}
