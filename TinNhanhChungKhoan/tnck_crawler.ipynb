{
 "cells": [
  {
   "cell_type": "code",
   "execution_count": 12,
   "metadata": {},
   "outputs": [],
   "source": [
    "import pandas as pd\n",
    "from bs4 import BeautifulSoup\n",
    "import requests\n",
    "from datetime import datetime\n",
    "import re\n",
    "from tqdm import tqdm"
   ]
  },
  {
   "cell_type": "code",
   "execution_count": 29,
   "metadata": {},
   "outputs": [],
   "source": [
    "# CONST\n",
    "\n",
    "categ_dict = {\n",
    "    'chung-khoan':1,\n",
    "    'thoi-su':7,\n",
    "    'doanh-nghiep':4,\n",
    "    'bat-dong-san':2,\n",
    "    'quoc-te':9,\n",
    "    'tai-chinh':60\n",
    "}\n",
    "\n",
    "min_date = datetime.strptime(\"30/11/2024\", '%d/%m/%Y').timestamp()\n"
   ]
  },
  {
   "cell_type": "code",
   "execution_count": 51,
   "metadata": {},
   "outputs": [
    {
     "data": {
      "text/plain": [
       "True"
      ]
     },
     "execution_count": 51,
     "metadata": {},
     "output_type": "execute_result"
    }
   ],
   "source": [
    "1730959179 < min_date"
   ]
  },
  {
   "cell_type": "code",
   "execution_count": null,
   "metadata": {},
   "outputs": [],
   "source": [
    "headers = {\n",
    "    'accept': '*/*',\n",
    "    'accept-language': 'en-US,en;q=0.9,vi;q=0.8',\n",
    "    'origin': 'https://www.tinnhanhchungkhoan.vn',\n",
    "    'priority': 'u=1, i',\n",
    "    'referer': 'https://www.tinnhanhchungkhoan.vn/',\n",
    "    'sec-ch-ua': '\"Chromium\";v=\"130\", \"Microsoft Edge\";v=\"130\", \"Not?A_Brand\";v=\"99\"',\n",
    "    'sec-ch-ua-mobile': '?0',\n",
    "    'sec-ch-ua-platform': '\"Windows\"',\n",
    "    'sec-fetch-dest': 'empty',\n",
    "    'sec-fetch-mode': 'cors',\n",
    "    'sec-fetch-site': 'same-site',\n",
    "    'user-agent': 'Mozilla/5.0 (Windows NT 10.0; Win64; x64) AppleWebKit/537.36 (KHTML, like Gecko) Chrome/130.0.0.0 Safari/537.36 Edg/130.0.0.0',\n",
    "}\n",
    "\n",
    "params = {\n",
    "    'phrase': '',\n",
    "}\n",
    "\n",
    "all_urls = []\n",
    "page = 1\n",
    "for categID in tqdm(list(categ_dict.keys())):\n",
    "    while page > 0:\n",
    "        response = requests.get(\n",
    "            f'https://api.tinnhanhchungkhoan.vn/api/morenews-zone-{categ_dict[categID]}-{page}.html', \n",
    "            params=params, \n",
    "            headers=headers\n",
    "        ).json()[\"data\"][\"contents\"]\n",
    "        print(response[-1][\"date\"])\n",
    "        urls = ['https://www.tinnhanhchungkhoan.vn' + element['url'] for element in response]\n",
    "        all_urls.extend(urls)\n",
    "        if response[-1][\"date\"] < min_date:\n",
    "            print(f\"Min date reached for {categID}\")\n",
    "            break\n",
    "        page += 1"
   ]
  },
  {
   "cell_type": "code",
   "execution_count": null,
   "metadata": {},
   "outputs": [],
   "source": [
    "def get_article(url):\n",
    "    html = BeautifulSoup(requests.get(url).content, 'html.parser')\n",
    "    title = html.find('h1', {\"class\":'article__header'}).get_text().strip()\n",
    "    date = html.find('time', {'class':'time'}).get('data-time')\n",
    "    desc = html.find('div', {'class':'article__sapo'}).get_text().strip()\n",
    "    categ = html.find('li', {'class':'main-cate'}).find('a').get('title')\n",
    "    body = html.find('div', {'class':'article__body'}).get_text().strip().replace('\\n',\"\")\n",
    "    return {\n",
    "        'date':date, 'title':title, 'desc':desc, 'categ':categ, 'body':body, 'source':'TinNhanhChungKhoan'\n",
    "    }"
   ]
  },
  {
   "cell_type": "code",
   "execution_count": null,
   "metadata": {},
   "outputs": [
    {
     "name": "stderr",
     "output_type": "stream",
     "text": [
      "  9%|▉         | 21/240 [1:34:37<16:26:49, 270.36s/it]"
     ]
    }
   ],
   "source": [
    "dates = []\n",
    "sources = []\n",
    "urls = []\n",
    "titles = []\n",
    "descs = []\n",
    "categs = []\n",
    "bodies = []\n",
    "\n",
    "for link in tqdm(all_urls):\n",
    "    try:\n",
    "        data = get_article(link)\n",
    "        dates.append(data[\"date\"])\n",
    "        sources.append(data[\"source\"])\n",
    "        urls.append(link)\n",
    "        titles.append(data[\"title\"])\n",
    "        descs.append(data[\"desc\"])\n",
    "        categs.append(data[\"desc\"])\n",
    "        bodies.append(data['body'])\n",
    "    except Exception as error:\n",
    "        print(f\"Error at:, {link} {error}\")\n",
    "\n",
    "tnck_data = pd.DataFrame({\n",
    "        'date': dates,\n",
    "        'source' : sources,\n",
    "        'url' : urls,\n",
    "        'title' : titles,\n",
    "        'description' : descs,\n",
    "        'category' : categs,\n",
    "        'body' : bodies\n",
    "    })\n",
    "    "
   ]
  },
  {
   "cell_type": "code",
   "execution_count": null,
   "metadata": {},
   "outputs": [],
   "source": [
    "tnck_data.to_csv(\"tnck_data.csv\")"
   ]
  }
 ],
 "metadata": {
  "kernelspec": {
   "display_name": "ds",
   "language": "python",
   "name": "python3"
  },
  "language_info": {
   "codemirror_mode": {
    "name": "ipython",
    "version": 3
   },
   "file_extension": ".py",
   "mimetype": "text/x-python",
   "name": "python",
   "nbconvert_exporter": "python",
   "pygments_lexer": "ipython3",
   "version": "3.9.18"
  }
 },
 "nbformat": 4,
 "nbformat_minor": 2
}
